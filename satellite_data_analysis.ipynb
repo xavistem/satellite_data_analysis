{
 "cells": [
  {
   "cell_type": "markdown",
   "id": "92da475e",
   "metadata": {},
   "source": [
    "SATELLITE DATA ANALYSIS FOR OUR STARTUP"
   ]
  }
 ],
 "metadata": {
  "language_info": {
   "name": "python"
  }
 },
 "nbformat": 4,
 "nbformat_minor": 5
}
