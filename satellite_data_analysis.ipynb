{
 "cells": [
  {
   "cell_type": "markdown",
   "id": "92da475e",
   "metadata": {},
   "source": [
    "# SATELLITE DATA ANALYSIS FOR OUR STARTUP"
   ]
  },
  {
   "cell_type": "code",
   "execution_count": 2,
   "id": "1f362fd8",
   "metadata": {},
   "outputs": [
    {
     "name": "stdout",
     "output_type": "stream",
     "text": [
      "Requirement already satisfied: pandas in c:\\users\\usuario\\anaconda3\\lib\\site-packages (2.2.2)\n",
      "Requirement already satisfied: openpyxl in c:\\users\\usuario\\anaconda3\\lib\\site-packages (3.1.5)\n",
      "Requirement already satisfied: numpy>=1.26.0 in c:\\users\\usuario\\anaconda3\\lib\\site-packages (from pandas) (1.26.4)\n",
      "Requirement already satisfied: python-dateutil>=2.8.2 in c:\\users\\usuario\\anaconda3\\lib\\site-packages (from pandas) (2.9.0.post0)\n",
      "Requirement already satisfied: pytz>=2020.1 in c:\\users\\usuario\\anaconda3\\lib\\site-packages (from pandas) (2024.1)\n",
      "Requirement already satisfied: tzdata>=2022.7 in c:\\users\\usuario\\anaconda3\\lib\\site-packages (from pandas) (2023.3)\n",
      "Requirement already satisfied: et-xmlfile in c:\\users\\usuario\\anaconda3\\lib\\site-packages (from openpyxl) (1.1.0)\n",
      "Requirement already satisfied: six>=1.5 in c:\\users\\usuario\\anaconda3\\lib\\site-packages (from python-dateutil>=2.8.2->pandas) (1.16.0)\n",
      "Note: you may need to restart the kernel to use updated packages.\n",
      "Requirement already satisfied: python-dotenv in c:\\users\\usuario\\anaconda3\\lib\\site-packages (0.21.0)\n",
      "Note: you may need to restart the kernel to use updated packages.\n"
     ]
    }
   ],
   "source": [
    "# Instalamos todo lo que necesitamos\n",
    "import pandas as pd\n",
    "import re\n",
    "import seaborn as sns\n",
    "import matplotlib.pyplot as plt\n",
    "import json\n",
    "import requests\n",
    "import time\n",
    "import os\n",
    "%pip install pandas openpyxl\n",
    "%pip install python-dotenv"
   ]
  },
  {
   "cell_type": "code",
   "execution_count": 3,
   "id": "d9349c6c",
   "metadata": {},
   "outputs": [],
   "source": [
    "# Importamos el dataset\n",
    "df_ucs = pd.read_excel(r'C:\\Users\\Usuario\\Desktop\\Ironhack\\Bootcamp\\03_Week3\\satellite_data_analysis\\Datasets\\UCS_Satellite_Database.xlsx')"
   ]
  },
  {
   "cell_type": "code",
   "execution_count": 4,
   "id": "c2463d1a",
   "metadata": {},
   "outputs": [
    {
     "data": {
      "text/html": [
       "<div>\n",
       "<style scoped>\n",
       "    .dataframe tbody tr th:only-of-type {\n",
       "        vertical-align: middle;\n",
       "    }\n",
       "\n",
       "    .dataframe tbody tr th {\n",
       "        vertical-align: top;\n",
       "    }\n",
       "\n",
       "    .dataframe thead th {\n",
       "        text-align: right;\n",
       "    }\n",
       "</style>\n",
       "<table border=\"1\" class=\"dataframe\">\n",
       "  <thead>\n",
       "    <tr style=\"text-align: right;\">\n",
       "      <th></th>\n",
       "      <th>Current Official Name of Satellite</th>\n",
       "      <th>Country/Org of UN Registry</th>\n",
       "      <th>Country of Operator/Owner</th>\n",
       "      <th>Operator/Owner</th>\n",
       "      <th>Users</th>\n",
       "      <th>Purpose</th>\n",
       "      <th>Detailed Purpose</th>\n",
       "      <th>Class of Orbit</th>\n",
       "      <th>Type of Orbit</th>\n",
       "      <th>Longitude of GEO (degrees)</th>\n",
       "      <th>...</th>\n",
       "      <th>Unnamed: 57</th>\n",
       "      <th>Unnamed: 58</th>\n",
       "      <th>Unnamed: 59</th>\n",
       "      <th>Unnamed: 60</th>\n",
       "      <th>Unnamed: 61</th>\n",
       "      <th>Unnamed: 62</th>\n",
       "      <th>Unnamed: 63</th>\n",
       "      <th>Unnamed: 64</th>\n",
       "      <th>Unnamed: 65</th>\n",
       "      <th>Unnamed: 66</th>\n",
       "    </tr>\n",
       "  </thead>\n",
       "  <tbody>\n",
       "    <tr>\n",
       "      <th>0</th>\n",
       "      <td>1HOPSAT-TD</td>\n",
       "      <td>NR</td>\n",
       "      <td>USA</td>\n",
       "      <td>Hera Systems</td>\n",
       "      <td>Commercial</td>\n",
       "      <td>Earth Observation</td>\n",
       "      <td>Infrared Imaging</td>\n",
       "      <td>LEO</td>\n",
       "      <td>Non-Polar Inclined</td>\n",
       "      <td>0.0</td>\n",
       "      <td>...</td>\n",
       "      <td>NaN</td>\n",
       "      <td>NaN</td>\n",
       "      <td>NaN</td>\n",
       "      <td>NaN</td>\n",
       "      <td>NaN</td>\n",
       "      <td>NaN</td>\n",
       "      <td>NaN</td>\n",
       "      <td>NaN</td>\n",
       "      <td>NaN</td>\n",
       "      <td>NaN</td>\n",
       "    </tr>\n",
       "    <tr>\n",
       "      <th>1</th>\n",
       "      <td>AAC AIS-Sat1 (Kelpie 1)</td>\n",
       "      <td>United Kingdom</td>\n",
       "      <td>United Kingdom</td>\n",
       "      <td>AAC Clyde Space</td>\n",
       "      <td>Commercial</td>\n",
       "      <td>Earth Observation</td>\n",
       "      <td>Automatic Identification System (AIS)</td>\n",
       "      <td>LEO</td>\n",
       "      <td>Sun-Synchronous</td>\n",
       "      <td>0.0</td>\n",
       "      <td>...</td>\n",
       "      <td>NaN</td>\n",
       "      <td>NaN</td>\n",
       "      <td>NaN</td>\n",
       "      <td>NaN</td>\n",
       "      <td>NaN</td>\n",
       "      <td>NaN</td>\n",
       "      <td>NaN</td>\n",
       "      <td>NaN</td>\n",
       "      <td>NaN</td>\n",
       "      <td>NaN</td>\n",
       "    </tr>\n",
       "    <tr>\n",
       "      <th>2</th>\n",
       "      <td>Aalto-1</td>\n",
       "      <td>Finland</td>\n",
       "      <td>Finland</td>\n",
       "      <td>Aalto University</td>\n",
       "      <td>Civil</td>\n",
       "      <td>Technology Development</td>\n",
       "      <td>NaN</td>\n",
       "      <td>LEO</td>\n",
       "      <td>Sun-Synchronous</td>\n",
       "      <td>0.0</td>\n",
       "      <td>...</td>\n",
       "      <td>NaN</td>\n",
       "      <td>NaN</td>\n",
       "      <td>NaN</td>\n",
       "      <td>NaN</td>\n",
       "      <td>NaN</td>\n",
       "      <td>NaN</td>\n",
       "      <td>NaN</td>\n",
       "      <td>NaN</td>\n",
       "      <td>NaN</td>\n",
       "      <td>NaN</td>\n",
       "    </tr>\n",
       "    <tr>\n",
       "      <th>3</th>\n",
       "      <td>AAt-4</td>\n",
       "      <td>Denmark</td>\n",
       "      <td>Denmark</td>\n",
       "      <td>University of Aalborg</td>\n",
       "      <td>Civil</td>\n",
       "      <td>Earth Observation</td>\n",
       "      <td>Automatic Identification System (AIS)</td>\n",
       "      <td>LEO</td>\n",
       "      <td>Sun-Synchronous</td>\n",
       "      <td>0.0</td>\n",
       "      <td>...</td>\n",
       "      <td>NaN</td>\n",
       "      <td>NaN</td>\n",
       "      <td>NaN</td>\n",
       "      <td>NaN</td>\n",
       "      <td>NaN</td>\n",
       "      <td>NaN</td>\n",
       "      <td>NaN</td>\n",
       "      <td>NaN</td>\n",
       "      <td>NaN</td>\n",
       "      <td>NaN</td>\n",
       "    </tr>\n",
       "    <tr>\n",
       "      <th>4</th>\n",
       "      <td>ABS-2</td>\n",
       "      <td>NR</td>\n",
       "      <td>Multinational</td>\n",
       "      <td>Asia Broadcast Satellite Ltd.</td>\n",
       "      <td>Commercial</td>\n",
       "      <td>Communications</td>\n",
       "      <td>NaN</td>\n",
       "      <td>GEO</td>\n",
       "      <td>NaN</td>\n",
       "      <td>75.0</td>\n",
       "      <td>...</td>\n",
       "      <td>NaN</td>\n",
       "      <td>NaN</td>\n",
       "      <td>NaN</td>\n",
       "      <td>NaN</td>\n",
       "      <td>NaN</td>\n",
       "      <td>NaN</td>\n",
       "      <td>NaN</td>\n",
       "      <td>NaN</td>\n",
       "      <td>NaN</td>\n",
       "      <td>NaN</td>\n",
       "    </tr>\n",
       "  </tbody>\n",
       "</table>\n",
       "<p>5 rows × 67 columns</p>\n",
       "</div>"
      ],
      "text/plain": [
       "  Current Official Name of Satellite Country/Org of UN Registry  \\\n",
       "0                         1HOPSAT-TD                         NR   \n",
       "1            AAC AIS-Sat1 (Kelpie 1)             United Kingdom   \n",
       "2                            Aalto-1                    Finland   \n",
       "3                              AAt-4                    Denmark   \n",
       "4                              ABS-2                         NR   \n",
       "\n",
       "  Country of Operator/Owner                 Operator/Owner       Users  \\\n",
       "0                       USA                   Hera Systems  Commercial   \n",
       "1            United Kingdom                AAC Clyde Space  Commercial   \n",
       "2                   Finland               Aalto University       Civil   \n",
       "3                   Denmark          University of Aalborg       Civil   \n",
       "4             Multinational  Asia Broadcast Satellite Ltd.  Commercial   \n",
       "\n",
       "                  Purpose                       Detailed Purpose  \\\n",
       "0       Earth Observation                       Infrared Imaging   \n",
       "1       Earth Observation  Automatic Identification System (AIS)   \n",
       "2  Technology Development                                    NaN   \n",
       "3       Earth Observation  Automatic Identification System (AIS)   \n",
       "4          Communications                                    NaN   \n",
       "\n",
       "  Class of Orbit       Type of Orbit  Longitude of GEO (degrees)  ...  \\\n",
       "0            LEO  Non-Polar Inclined                         0.0  ...   \n",
       "1            LEO     Sun-Synchronous                         0.0  ...   \n",
       "2            LEO     Sun-Synchronous                         0.0  ...   \n",
       "3            LEO     Sun-Synchronous                         0.0  ...   \n",
       "4            GEO                 NaN                        75.0  ...   \n",
       "\n",
       "   Unnamed: 57  Unnamed: 58  Unnamed: 59  Unnamed: 60  Unnamed: 61  \\\n",
       "0          NaN          NaN          NaN          NaN          NaN   \n",
       "1          NaN          NaN          NaN          NaN          NaN   \n",
       "2          NaN          NaN          NaN          NaN          NaN   \n",
       "3          NaN          NaN          NaN          NaN          NaN   \n",
       "4          NaN          NaN          NaN          NaN          NaN   \n",
       "\n",
       "   Unnamed: 62 Unnamed: 63 Unnamed: 64 Unnamed: 65  Unnamed: 66  \n",
       "0          NaN         NaN         NaN         NaN          NaN  \n",
       "1          NaN         NaN         NaN         NaN          NaN  \n",
       "2          NaN         NaN         NaN         NaN          NaN  \n",
       "3          NaN         NaN         NaN         NaN          NaN  \n",
       "4          NaN         NaN         NaN         NaN          NaN  \n",
       "\n",
       "[5 rows x 67 columns]"
      ]
     },
     "execution_count": 4,
     "metadata": {},
     "output_type": "execute_result"
    }
   ],
   "source": [
    "df_ucs.head()"
   ]
  },
  {
   "cell_type": "code",
   "execution_count": 5,
   "id": "ef9086d5",
   "metadata": {},
   "outputs": [
    {
     "data": {
      "text/plain": [
       "(7560, 67)"
      ]
     },
     "execution_count": 5,
     "metadata": {},
     "output_type": "execute_result"
    }
   ],
   "source": [
    "df_ucs.shape"
   ]
  },
  {
   "cell_type": "code",
   "execution_count": 6,
   "id": "174b61aa",
   "metadata": {},
   "outputs": [
    {
     "data": {
      "text/plain": [
       "Index(['Current Official Name of Satellite', 'Country/Org of UN Registry',\n",
       "       'Country of Operator/Owner', 'Operator/Owner', 'Users', 'Purpose',\n",
       "       'Detailed Purpose', 'Class of Orbit', 'Type of Orbit',\n",
       "       'Longitude of GEO (degrees)', 'Perigee (km)', 'Apogee (km)',\n",
       "       'Eccentricity', 'Inclination (degrees)', 'Period (minutes)',\n",
       "       'Launch Mass (kg.)', 'Dry Mass (kg.)', 'Power (watts)',\n",
       "       'Date of Launch', 'Expected Lifetime (yrs.)', 'Contractor',\n",
       "       'Country of Contractor', 'Launch Site', 'Launch Vehicle',\n",
       "       'COSPAR Number', 'NORAD Number', 'Comments', 'Unnamed: 27',\n",
       "       'Source Used for Orbital Data', 'Source', 'Source.1', 'Source.2',\n",
       "       'Source.3', 'Source.4', 'Source.5', 'Source.6', 'Unnamed: 36',\n",
       "       'Unnamed: 37', 'Unnamed: 38', 'Unnamed: 39', 'Unnamed: 40',\n",
       "       'Unnamed: 41', 'Unnamed: 42', 'Unnamed: 43', 'Unnamed: 44',\n",
       "       'Unnamed: 45', 'Unnamed: 46', 'Unnamed: 47', 'Unnamed: 48',\n",
       "       'Unnamed: 49', 'Unnamed: 50', 'Unnamed: 51', 'Unnamed: 52',\n",
       "       'Unnamed: 53', 'Unnamed: 54', 'Unnamed: 55', 'Unnamed: 56',\n",
       "       'Unnamed: 57', 'Unnamed: 58', 'Unnamed: 59', 'Unnamed: 60',\n",
       "       'Unnamed: 61', 'Unnamed: 62', 'Unnamed: 63', 'Unnamed: 64',\n",
       "       'Unnamed: 65', 'Unnamed: 66'],\n",
       "      dtype='object')"
      ]
     },
     "execution_count": 6,
     "metadata": {},
     "output_type": "execute_result"
    }
   ],
   "source": [
    "df_ucs.columns"
   ]
  },
  {
   "cell_type": "code",
   "execution_count": 7,
   "id": "55a2fcae",
   "metadata": {},
   "outputs": [],
   "source": [
    "df_ucs.loc[7186, 'Date of Launch'] = '01/09/2023' # Cambiamos el formato de una fehca\n",
    "df_ucs = df_ucs.drop([240, 349]) # Eliminamos dos filas donde no sale la fecha"
   ]
  },
  {
   "cell_type": "code",
   "execution_count": 8,
   "id": "20a8c2fc",
   "metadata": {},
   "outputs": [],
   "source": [
    "df_ucs['Date of Launch'] = pd.to_datetime(df_ucs['Date of Launch']) # Convertimos todas las fechas a datetime"
   ]
  },
  {
   "cell_type": "markdown",
   "id": "3da33e24",
   "metadata": {},
   "source": [
    "### Arreglar columna 'Date of Launch'"
   ]
  },
  {
   "cell_type": "code",
   "execution_count": 9,
   "id": "018566b4",
   "metadata": {},
   "outputs": [
    {
     "data": {
      "text/plain": [
       "array(['Satish Dhawan Space Centre', 'Cape Canaveral',\n",
       "       'Guiana Space Center', 'Baikonur Cosmodrome', 'Vandenberg AFB',\n",
       "       'Rocket Lab Launch Complex 1', 'Cygnus', 'Dombarovsky Air Base',\n",
       "       'Xichang Satellite Launch Center', 'Vostochny Cosmodrome',\n",
       "       'Uchinoura Space Center', 'Jiuquan Satellite Launch Center',\n",
       "       'Plesetsk Cosmodrome', 'Taiyuan Launch Center', 'Virgin Orbit',\n",
       "       'Vandeberg AFB', 'Yellow Sea Launch Platform',\n",
       "       'FANTM-RAiL [Xtenti]',\n",
       "       'Mid-Atlantic Regional Spaceport/Wallops Island',\n",
       "       'Wenchang Space Center', 'Orbital ATK L-1011',\n",
       "       'Tanegashima Space Center', 'International Space Station',\n",
       "       'Antares', 'Sea Launch Odyssey', 'Svobodny Cosmodrome',\n",
       "       'Kodiak Launch Complex', 'Wallops Island Flight Facility',\n",
       "       'Stargazer L-1011', 'Kwajalein Island', 'Taiyan Launch Center',\n",
       "       'International Space Station - Cygnus', 'Shahroud Missile Range',\n",
       "       'Palmachim Launch Complex ', 'Satish Dhawan Space Center',\n",
       "       'Kodiak Island', 'FANTM-RAiL (Xtenti)', 'Naro Space Center',\n",
       "       'Wenchang Satellite Launch Center', 'Rocket Lab Launch Complex 1B'],\n",
       "      dtype=object)"
      ]
     },
     "execution_count": 9,
     "metadata": {},
     "output_type": "execute_result"
    }
   ],
   "source": [
    "df_ucs[\"Launch Site\"].unique()"
   ]
  },
  {
   "cell_type": "code",
   "execution_count": 10,
   "id": "bc6d40fc",
   "metadata": {},
   "outputs": [
    {
     "data": {
      "text/plain": [
       "40"
      ]
     },
     "execution_count": 10,
     "metadata": {},
     "output_type": "execute_result"
    }
   ],
   "source": [
    "df_ucs[\"Launch Site\"].nunique()"
   ]
  },
  {
   "cell_type": "code",
   "execution_count": 11,
   "id": "08b11a03",
   "metadata": {},
   "outputs": [],
   "source": [
    "df_ucs[\"Launch Site\"] = df_ucs[\"Launch Site\"].str.strip()"
   ]
  },
  {
   "cell_type": "code",
   "execution_count": 12,
   "id": "3b532fbc",
   "metadata": {},
   "outputs": [],
   "source": [
    "# Unificar las distintas formas de escribir 'Rocket Lab Launch Complex 1B'\n",
    "df_ucs[\"Launch Site\"] = df_ucs[\"Launch Site\"].replace(\"Rocket Lab Launch Complex 1B\", \"Rocket Lab Launch Complex 1\")"
   ]
  },
  {
   "cell_type": "code",
   "execution_count": 13,
   "id": "663524f9",
   "metadata": {},
   "outputs": [],
   "source": [
    "# Unificar 'FANTM-RAiL (Xtenti)' y 'FANTM-RAiL [Xtenti]' y pasarlo a 'Cape Canaveral' ya que he investigado, y esta empresa usa esa localización\n",
    "df_ucs[\"Launch Site\"] = df_ucs[\"Launch Site\"].replace(['FANTM-RAiL (Xtenti)', 'FANTM-RAiL [Xtenti]'], 'Cape Canaveral')"
   ]
  },
  {
   "cell_type": "code",
   "execution_count": 14,
   "id": "cc5e7165",
   "metadata": {},
   "outputs": [],
   "source": [
    "# Reemplazar múltiples localizaciones por 'Plain/ISS Launch' ya que no puedo obtener el clima en esos sitios ya que no son terrestres\n",
    "plane_iss_launch = ['Orbital ATK L-1011','International Space Station - Cygnus','International Space Station','Cygnus','Stargazer L-1011','Virgin Orbit']\n",
    "df_ucs[\"Launch Site\"] = df_ucs[\"Launch Site\"].replace(plane_iss_launch, \"Plane/ISS Launch\")"
   ]
  },
  {
   "cell_type": "code",
   "execution_count": 15,
   "id": "91ac880e",
   "metadata": {},
   "outputs": [],
   "source": [
    "# Unificar Vandenber AFB\n",
    "df_ucs['Launch Site'] = df_ucs['Launch Site'].replace('Vandeberg AFB', 'Vandenberg AFB')"
   ]
  },
  {
   "cell_type": "code",
   "execution_count": 16,
   "id": "b232a7d4",
   "metadata": {},
   "outputs": [],
   "source": [
    "# Unificar Satish Dhawan Space Center\n",
    "df_ucs['Launch Site'] = df_ucs['Launch Site'].replace('Satish Dhawan Space Centre', 'Satish Dhawan Space Center')"
   ]
  },
  {
   "cell_type": "code",
   "execution_count": 17,
   "id": "3afbcbfd",
   "metadata": {},
   "outputs": [],
   "source": [
    "# Unificar Kodiak Launch Complex\n",
    "df_ucs['Launch Site'] = df_ucs['Launch Site'].replace('Kodiak Island', 'Kodiak Launch Complex')"
   ]
  },
  {
   "cell_type": "code",
   "execution_count": 18,
   "id": "ad57bc9d",
   "metadata": {},
   "outputs": [],
   "source": [
    "# Unificar Wenchang Space Launch Site\n",
    "df_ucs[\"Launch Site\"] = df_ucs[\"Launch Site\"].replace(['Wenchang Satellite Launch Center', 'Wenchang Space Center'], 'Wenchang Space Launch Site')"
   ]
  },
  {
   "cell_type": "code",
   "execution_count": 19,
   "id": "8d399db3",
   "metadata": {},
   "outputs": [],
   "source": [
    "# Corregir valores\n",
    "df_ucs['Launch Site'] = df_ucs['Launch Site'].replace('Taiyan Launch Center', 'Taiyuan Launch Center')"
   ]
  },
  {
   "cell_type": "code",
   "execution_count": 20,
   "id": "72dcae9a",
   "metadata": {},
   "outputs": [
    {
     "data": {
      "text/plain": [
       "array(['Satish Dhawan Space Center', 'Cape Canaveral',\n",
       "       'Guiana Space Center', 'Baikonur Cosmodrome', 'Vandenberg AFB',\n",
       "       'Rocket Lab Launch Complex 1', 'Plane/ISS Launch',\n",
       "       'Dombarovsky Air Base', 'Xichang Satellite Launch Center',\n",
       "       'Vostochny Cosmodrome', 'Uchinoura Space Center',\n",
       "       'Jiuquan Satellite Launch Center', 'Plesetsk Cosmodrome',\n",
       "       'Taiyuan Launch Center', 'Yellow Sea Launch Platform',\n",
       "       'Mid-Atlantic Regional Spaceport/Wallops Island',\n",
       "       'Wenchang Space Launch Site', 'Tanegashima Space Center',\n",
       "       'Antares', 'Sea Launch Odyssey', 'Svobodny Cosmodrome',\n",
       "       'Kodiak Launch Complex', 'Wallops Island Flight Facility',\n",
       "       'Kwajalein Island', 'Shahroud Missile Range',\n",
       "       'Palmachim Launch Complex', 'Naro Space Center'], dtype=object)"
      ]
     },
     "execution_count": 20,
     "metadata": {},
     "output_type": "execute_result"
    }
   ],
   "source": [
    "df_ucs[\"Launch Site\"].unique()"
   ]
  },
  {
   "cell_type": "markdown",
   "id": "b2890127",
   "metadata": {},
   "source": [
    "### Creamos una nueva columna con las coordenadas de cada localización"
   ]
  },
  {
   "cell_type": "code",
   "execution_count": 23,
   "id": "92b4066d",
   "metadata": {},
   "outputs": [],
   "source": [
    "# Diccionario de las coordenadas de cada valor único de la columna 'Launch Site' con los valores únicos\n",
    "launch_site_coordinate = {\n",
    "    'Vandenberg AFB': (34.74738558053763, -120.57287382598979),\n",
    "    'Cape Canaveral': (28.478816053592052, -80.57606021672525),\n",
    "    'Guiana Space Center': (5.23314401858844, -52.776983796694616),\n",
    "    'Baikonur Cosmodrome': (45.96725377748388, 63.30547994996387),\n",
    "    'Wallops Island Flight Facility': (37.933875469177956, -75.47227890015118),\n",
    "    'Satish Dhawan Space Center': (13.726115425221352, 80.22658668288408),\n",
    "    'Sea Launch Odyssey': (33.75803115528897, -118.21714540854131),\n",
    "    'Svobodny Cosmodrome': (51.79375147822065, 128.18611741169877),\n",
    "    'Plesetsk Cosmodrome': (62.92795253294236, 40.574883713321356),\n",
    "    'Palmachim Launch Complex': (31.89933331285537, 34.69069702671702),\n",
    "    'Taiyuan Launch Center': (38.848744585386704, 111.60792935276686),\n",
    "    'Xichang Satellite Launch Center': (28.246289127653373, 102.02655974251424),\n",
    "    'Jiuquan Satellite Launch Center': (40.95820141282573, 100.29113255468557),\n",
    "    'Dombarovsky Air Base': (50.800636829015794, 59.51676155312275),\n",
    "    'Uchinoura Space Center': (31.251286366566344, 131.07612469723395),\n",
    "    'Kwajalein Island': (8.720654879025744, 167.73129220584238),\n",
    "    'Tanegashima Space Center': (30.37513340280436, 130.95763536784997),\n",
    "    'Kodiak Launch Complex': (57.43532950799345, -152.33958590527274),\n",
    "    'Naro Space Center': (34.45356111005476, 127.51782879680057),\n",
    "    'Vostochny Cosmodrome': (51.84953794993724, 128.35530328395734),\n",
    "    'Wenchang Space Launch Site': (19.619733115878066, 110.95159716666655),\n",
    "    'Rocket Lab Launch Complex 1': (-39.26076827278987, 177.8658598361479),\n",
    "    'Yellow Sea Launch Platform': (35.01725874873759, 122.99900258520917),\n",
    "    'Shahroud Missile Range': (36.20102786793409, 55.33395241490814),\n",
    "    'Mid-Atlantic Regional Spaceport/Wallops Island': (37.93221269267054, -75.4813545300791),\n",
    "    'Antares': (37.932076857305944, -75.48138113038931),\n",
    "    'Plane/ISS Launch': None,\n",
    "}\n",
    "\n",
    "# Asignamos las coordenadas en la nueva columna 'Geographic Coordinate'\n",
    "df_ucs['Geographic Coordinate'] = df_ucs['Launch Site'].map(launch_site_coordinate)"
   ]
  },
  {
   "cell_type": "markdown",
   "id": "6a387f4d",
   "metadata": {},
   "source": [
    "### Eliminamos columnas que no necesitamos"
   ]
  },
  {
   "cell_type": "code",
   "execution_count": 24,
   "id": "618c50d2",
   "metadata": {},
   "outputs": [
    {
     "data": {
      "text/plain": [
       "Index(['Current Official Name of Satellite', 'Country/Org of UN Registry',\n",
       "       'Country of Operator/Owner', 'Operator/Owner', 'Users', 'Purpose',\n",
       "       'Detailed Purpose', 'Class of Orbit', 'Type of Orbit',\n",
       "       'Longitude of GEO (degrees)', 'Perigee (km)', 'Apogee (km)',\n",
       "       'Eccentricity', 'Inclination (degrees)', 'Period (minutes)',\n",
       "       'Launch Mass (kg.)', 'Dry Mass (kg.)', 'Power (watts)',\n",
       "       'Date of Launch', 'Expected Lifetime (yrs.)', 'Contractor',\n",
       "       'Country of Contractor', 'Launch Site', 'Launch Vehicle',\n",
       "       'COSPAR Number', 'NORAD Number', 'Comments', 'Unnamed: 27',\n",
       "       'Source Used for Orbital Data', 'Source', 'Source.1', 'Source.2',\n",
       "       'Source.3', 'Source.4', 'Source.5', 'Source.6', 'Unnamed: 36',\n",
       "       'Unnamed: 37', 'Unnamed: 38', 'Unnamed: 39', 'Unnamed: 40',\n",
       "       'Unnamed: 41', 'Unnamed: 42', 'Unnamed: 43', 'Unnamed: 44',\n",
       "       'Unnamed: 45', 'Unnamed: 46', 'Unnamed: 47', 'Unnamed: 48',\n",
       "       'Unnamed: 49', 'Unnamed: 50', 'Unnamed: 51', 'Unnamed: 52',\n",
       "       'Unnamed: 53', 'Unnamed: 54', 'Unnamed: 55', 'Unnamed: 56',\n",
       "       'Unnamed: 57', 'Unnamed: 58', 'Unnamed: 59', 'Unnamed: 60',\n",
       "       'Unnamed: 61', 'Unnamed: 62', 'Unnamed: 63', 'Unnamed: 64',\n",
       "       'Unnamed: 65', 'Unnamed: 66', 'Geographic Coordinate'],\n",
       "      dtype='object')"
      ]
     },
     "execution_count": 24,
     "metadata": {},
     "output_type": "execute_result"
    }
   ],
   "source": [
    "df_ucs.columns"
   ]
  },
  {
   "cell_type": "code",
   "execution_count": 25,
   "id": "c5eced8b",
   "metadata": {},
   "outputs": [],
   "source": [
    "# Eliminar columnas que no necesito\n",
    "df_ucs.drop(['Source',\n",
    "       'Source.1', 'Source.2', 'Source.3', 'Source.4', 'Source.5', 'Source.6',\n",
    "       'Unnamed: 36', 'Unnamed: 37', 'Unnamed: 38', 'Unnamed: 39',\n",
    "       'Unnamed: 40', 'Unnamed: 41', 'Unnamed: 42', 'Unnamed: 43',\n",
    "       'Unnamed: 44', 'Unnamed: 45', 'Unnamed: 46', 'Unnamed: 47',\n",
    "       'Unnamed: 48', 'Unnamed: 49', 'Unnamed: 50', 'Unnamed: 51',\n",
    "       'Unnamed: 52', 'Unnamed: 53', 'Unnamed: 54', 'Unnamed: 55',\n",
    "       'Unnamed: 56', 'Unnamed: 57', 'Unnamed: 58', 'Unnamed: 59',\n",
    "       'Unnamed: 60', 'Unnamed: 61', 'Unnamed: 62', 'Unnamed: 63',\n",
    "       'Unnamed: 64', 'Unnamed: 65', 'Unnamed: 66'], axis=1, inplace=True)\n"
   ]
  },
  {
   "cell_type": "markdown",
   "id": "f655587f",
   "metadata": {},
   "source": [
    "### Reordenamos las columnas según nuestro criterio"
   ]
  },
  {
   "cell_type": "code",
   "execution_count": 26,
   "id": "a53f279b",
   "metadata": {},
   "outputs": [
    {
     "data": {
      "text/plain": [
       "Index(['Current Official Name of Satellite', 'Country/Org of UN Registry',\n",
       "       'Country of Operator/Owner', 'Operator/Owner', 'Users', 'Purpose',\n",
       "       'Detailed Purpose', 'Class of Orbit', 'Type of Orbit',\n",
       "       'Longitude of GEO (degrees)', 'Perigee (km)', 'Apogee (km)',\n",
       "       'Eccentricity', 'Inclination (degrees)', 'Period (minutes)',\n",
       "       'Launch Mass (kg.)', 'Dry Mass (kg.)', 'Power (watts)',\n",
       "       'Date of Launch', 'Expected Lifetime (yrs.)', 'Contractor',\n",
       "       'Country of Contractor', 'Launch Site', 'Launch Vehicle',\n",
       "       'COSPAR Number', 'NORAD Number', 'Comments', 'Unnamed: 27',\n",
       "       'Source Used for Orbital Data', 'Geographic Coordinate'],\n",
       "      dtype='object')"
      ]
     },
     "execution_count": 26,
     "metadata": {},
     "output_type": "execute_result"
    }
   ],
   "source": [
    "df_ucs.columns"
   ]
  },
  {
   "cell_type": "code",
   "execution_count": 27,
   "id": "cc6a971b",
   "metadata": {},
   "outputs": [],
   "source": [
    "# Recordenar columnas\n",
    "nuevo_orden = ['Date of Launch', 'Geographic Coordinate', 'COSPAR Number', 'NORAD Number','Current Official Name of Satellite', 'Launch Site', 'Country/Org of UN Registry',\n",
    "       'Country of Operator/Owner', 'Operator/Owner', 'Launch Vehicle', 'Expected Lifetime (yrs.)',\n",
    "       'Contractor', 'Country of Contractor', 'Users', 'Purpose',\n",
    "       'Detailed Purpose', 'Class of Orbit', 'Type of Orbit',\n",
    "       'Longitude of GEO (degrees)', 'Perigee (km)', 'Apogee (km)',\n",
    "       'Eccentricity', 'Inclination (degrees)', 'Period (minutes)',\n",
    "       'Launch Mass (kg.)', 'Dry Mass (kg.)', 'Power (watts)', \n",
    "       'Comments', 'Unnamed: 27', 'Source Used for Orbital Data',\n",
    "       ] \n",
    "df_ucs = df_ucs[nuevo_orden]"
   ]
  },
  {
   "cell_type": "markdown",
   "id": "39ff2365",
   "metadata": {},
   "source": [
    "### Ordenamos todo el DF de más antiguo o más reciente"
   ]
  },
  {
   "cell_type": "code",
   "execution_count": 28,
   "id": "529363c4",
   "metadata": {},
   "outputs": [],
   "source": [
    "# Ordenamos el df en orden de más antiguo o más reciente\n",
    "df_ucs = df_ucs.sort_values(by='Date of Launch')"
   ]
  },
  {
   "cell_type": "code",
   "execution_count": 29,
   "id": "6a476c60",
   "metadata": {},
   "outputs": [],
   "source": [
    "# Para restablecer el índice\n",
    "df_ucs = df_ucs.reset_index(drop=True)"
   ]
  },
  {
   "cell_type": "code",
   "execution_count": 30,
   "id": "0d8cc56e",
   "metadata": {},
   "outputs": [
    {
     "data": {
      "text/html": [
       "<div>\n",
       "<style scoped>\n",
       "    .dataframe tbody tr th:only-of-type {\n",
       "        vertical-align: middle;\n",
       "    }\n",
       "\n",
       "    .dataframe tbody tr th {\n",
       "        vertical-align: top;\n",
       "    }\n",
       "\n",
       "    .dataframe thead th {\n",
       "        text-align: right;\n",
       "    }\n",
       "</style>\n",
       "<table border=\"1\" class=\"dataframe\">\n",
       "  <thead>\n",
       "    <tr style=\"text-align: right;\">\n",
       "      <th></th>\n",
       "      <th>Date of Launch</th>\n",
       "      <th>Geographic Coordinate</th>\n",
       "      <th>COSPAR Number</th>\n",
       "      <th>NORAD Number</th>\n",
       "      <th>Current Official Name of Satellite</th>\n",
       "      <th>Launch Site</th>\n",
       "      <th>Country/Org of UN Registry</th>\n",
       "      <th>Country of Operator/Owner</th>\n",
       "      <th>Operator/Owner</th>\n",
       "      <th>Launch Vehicle</th>\n",
       "      <th>...</th>\n",
       "      <th>Apogee (km)</th>\n",
       "      <th>Eccentricity</th>\n",
       "      <th>Inclination (degrees)</th>\n",
       "      <th>Period (minutes)</th>\n",
       "      <th>Launch Mass (kg.)</th>\n",
       "      <th>Dry Mass (kg.)</th>\n",
       "      <th>Power (watts)</th>\n",
       "      <th>Comments</th>\n",
       "      <th>Unnamed: 27</th>\n",
       "      <th>Source Used for Orbital Data</th>\n",
       "    </tr>\n",
       "  </thead>\n",
       "  <tbody>\n",
       "    <tr>\n",
       "      <th>0</th>\n",
       "      <td>1974-11-15</td>\n",
       "      <td>(34.74738558053763, -120.57287382598979)</td>\n",
       "      <td>1974-089B</td>\n",
       "      <td>7530</td>\n",
       "      <td>Amsat-Oscar 7</td>\n",
       "      <td>Vandenberg AFB</td>\n",
       "      <td>USA</td>\n",
       "      <td>USA</td>\n",
       "      <td>AMSAT-NA</td>\n",
       "      <td>Delta 2310</td>\n",
       "      <td>...</td>\n",
       "      <td>1459.0</td>\n",
       "      <td>0.001215</td>\n",
       "      <td>101.40</td>\n",
       "      <td>114.90</td>\n",
       "      <td>29.0</td>\n",
       "      <td>NaN</td>\n",
       "      <td>NaN</td>\n",
       "      <td>American amateur radio satellite.</td>\n",
       "      <td>NaN</td>\n",
       "      <td>www.satellitedebris.net 12/12</td>\n",
       "    </tr>\n",
       "    <tr>\n",
       "      <th>1</th>\n",
       "      <td>1988-09-29</td>\n",
       "      <td>(28.478816053592052, -80.57606021672525)</td>\n",
       "      <td>1988-091B</td>\n",
       "      <td>19548</td>\n",
       "      <td>TDRS-3</td>\n",
       "      <td>Cape Canaveral</td>\n",
       "      <td>USA</td>\n",
       "      <td>USA</td>\n",
       "      <td>National Aeronautics and Space Administration ...</td>\n",
       "      <td>Space Shuttle (STS 26)</td>\n",
       "      <td>...</td>\n",
       "      <td>35878.0</td>\n",
       "      <td>0.002194</td>\n",
       "      <td>11.53</td>\n",
       "      <td>1436.06</td>\n",
       "      <td>3180.0</td>\n",
       "      <td>1600</td>\n",
       "      <td>1800</td>\n",
       "      <td>Backup; still partially operational.</td>\n",
       "      <td>NaN</td>\n",
       "      <td>JM/12_08</td>\n",
       "    </tr>\n",
       "    <tr>\n",
       "      <th>2</th>\n",
       "      <td>1989-09-25</td>\n",
       "      <td>(28.478816053592052, -80.57606021672525)</td>\n",
       "      <td>1989-077A</td>\n",
       "      <td>20253</td>\n",
       "      <td>USA 46</td>\n",
       "      <td>Cape Canaveral</td>\n",
       "      <td>USA</td>\n",
       "      <td>USA</td>\n",
       "      <td>US Navy</td>\n",
       "      <td>Atlas Centaur</td>\n",
       "      <td>...</td>\n",
       "      <td>35829.0</td>\n",
       "      <td>0.000996</td>\n",
       "      <td>8.97</td>\n",
       "      <td>1436.13</td>\n",
       "      <td>2310.0</td>\n",
       "      <td>1884</td>\n",
       "      <td>NaN</td>\n",
       "      <td>Old system replaced by UFO satellites; this sa...</td>\n",
       "      <td>NaN</td>\n",
       "      <td>JM/2_09</td>\n",
       "    </tr>\n",
       "    <tr>\n",
       "      <th>3</th>\n",
       "      <td>1990-04-25</td>\n",
       "      <td>(28.478816053592052, -80.57606021672525)</td>\n",
       "      <td>1990-037B</td>\n",
       "      <td>20580</td>\n",
       "      <td>Hubble Space Telescope</td>\n",
       "      <td>Cape Canaveral</td>\n",
       "      <td>USA</td>\n",
       "      <td>ESA</td>\n",
       "      <td>European Space Agency (ESA)/NASA</td>\n",
       "      <td>Space Shuttle (STS 31)</td>\n",
       "      <td>...</td>\n",
       "      <td>559.0</td>\n",
       "      <td>0.000289</td>\n",
       "      <td>28.50</td>\n",
       "      <td>95.80</td>\n",
       "      <td>11110.0</td>\n",
       "      <td>NaN</td>\n",
       "      <td>2400</td>\n",
       "      <td>Exploration of space.</td>\n",
       "      <td>NaN</td>\n",
       "      <td>www.satellitedebris.net 12/12</td>\n",
       "    </tr>\n",
       "    <tr>\n",
       "      <th>4</th>\n",
       "      <td>1990-08-30</td>\n",
       "      <td>(5.23314401858844, -52.776983796694616)</td>\n",
       "      <td>1990-079A</td>\n",
       "      <td>20776</td>\n",
       "      <td>Skynet 4C</td>\n",
       "      <td>Guiana Space Center</td>\n",
       "      <td>United Kingdom</td>\n",
       "      <td>United Kingdom</td>\n",
       "      <td>Intelsat/Paradigm Secure Communications (wholl...</td>\n",
       "      <td>Ariane 44LP</td>\n",
       "      <td>...</td>\n",
       "      <td>35787.0</td>\n",
       "      <td>0.000024</td>\n",
       "      <td>13.60</td>\n",
       "      <td>1436.07</td>\n",
       "      <td>1474.0</td>\n",
       "      <td>850</td>\n",
       "      <td>1200</td>\n",
       "      <td>Spare. In March 2010 it was announced that the...</td>\n",
       "      <td>NaN</td>\n",
       "      <td>JM/12_08</td>\n",
       "    </tr>\n",
       "  </tbody>\n",
       "</table>\n",
       "<p>5 rows × 30 columns</p>\n",
       "</div>"
      ],
      "text/plain": [
       "  Date of Launch                     Geographic Coordinate COSPAR Number  \\\n",
       "0     1974-11-15  (34.74738558053763, -120.57287382598979)     1974-089B   \n",
       "1     1988-09-29  (28.478816053592052, -80.57606021672525)     1988-091B   \n",
       "2     1989-09-25  (28.478816053592052, -80.57606021672525)     1989-077A   \n",
       "3     1990-04-25  (28.478816053592052, -80.57606021672525)     1990-037B   \n",
       "4     1990-08-30   (5.23314401858844, -52.776983796694616)     1990-079A   \n",
       "\n",
       "   NORAD Number Current Official Name of Satellite          Launch Site  \\\n",
       "0          7530                      Amsat-Oscar 7       Vandenberg AFB   \n",
       "1         19548                             TDRS-3       Cape Canaveral   \n",
       "2         20253                             USA 46       Cape Canaveral   \n",
       "3         20580             Hubble Space Telescope       Cape Canaveral   \n",
       "4         20776                          Skynet 4C  Guiana Space Center   \n",
       "\n",
       "  Country/Org of UN Registry Country of Operator/Owner  \\\n",
       "0                        USA                       USA   \n",
       "1                        USA                       USA   \n",
       "2                        USA                       USA   \n",
       "3                        USA                       ESA   \n",
       "4             United Kingdom            United Kingdom   \n",
       "\n",
       "                                      Operator/Owner          Launch Vehicle  \\\n",
       "0                                           AMSAT-NA              Delta 2310   \n",
       "1  National Aeronautics and Space Administration ...  Space Shuttle (STS 26)   \n",
       "2                                            US Navy           Atlas Centaur   \n",
       "3                   European Space Agency (ESA)/NASA  Space Shuttle (STS 31)   \n",
       "4  Intelsat/Paradigm Secure Communications (wholl...             Ariane 44LP   \n",
       "\n",
       "   ...  Apogee (km) Eccentricity Inclination (degrees) Period (minutes)  \\\n",
       "0  ...       1459.0     0.001215                101.40           114.90   \n",
       "1  ...      35878.0     0.002194                 11.53          1436.06   \n",
       "2  ...      35829.0     0.000996                  8.97          1436.13   \n",
       "3  ...        559.0     0.000289                 28.50            95.80   \n",
       "4  ...      35787.0     0.000024                 13.60          1436.07   \n",
       "\n",
       "  Launch Mass (kg.) Dry Mass (kg.) Power (watts)  \\\n",
       "0              29.0            NaN           NaN   \n",
       "1            3180.0           1600          1800   \n",
       "2            2310.0           1884           NaN   \n",
       "3           11110.0            NaN          2400   \n",
       "4            1474.0            850          1200   \n",
       "\n",
       "                                            Comments  Unnamed: 27  \\\n",
       "0                  American amateur radio satellite.          NaN   \n",
       "1               Backup; still partially operational.          NaN   \n",
       "2  Old system replaced by UFO satellites; this sa...          NaN   \n",
       "3                              Exploration of space.          NaN   \n",
       "4  Spare. In March 2010 it was announced that the...          NaN   \n",
       "\n",
       "    Source Used for Orbital Data  \n",
       "0  www.satellitedebris.net 12/12  \n",
       "1                       JM/12_08  \n",
       "2                        JM/2_09  \n",
       "3  www.satellitedebris.net 12/12  \n",
       "4                       JM/12_08  \n",
       "\n",
       "[5 rows x 30 columns]"
      ]
     },
     "execution_count": 30,
     "metadata": {},
     "output_type": "execute_result"
    }
   ],
   "source": [
    "df_ucs.head()"
   ]
  },
  {
   "cell_type": "markdown",
   "id": "c221c14e",
   "metadata": {},
   "source": [
    "## API OPEN-METEO.COM PARA INCLUIR EL CLIMA (CON DISTINTAS VARIABLES) DEL LUGAR EXACTO SEGÚN LAS COORDENADAS Y SEGÚN EL DÍA"
   ]
  },
  {
   "cell_type": "markdown",
   "id": "1b326730",
   "metadata": {},
   "source": [
    "Voy a extraer de la API open-meteo.com todas estas variables según las coordenadas exactas y la fecha exacta (son daily weather variables): \n",
    "\n",
    "Weather code, Mean Temperature (2 m), Precipitation Sum, Precipitation Hours, Maximum Wind Speed (10 m), Maximum Wind Gusts (10 m), Mean Cloud cover, Mean Precipitation Probability, Mean Relative Humidity (2 m), Mean Visibility"
   ]
  },
  {
   "cell_type": "code",
   "execution_count": 31,
   "id": "b5336c13",
   "metadata": {},
   "outputs": [
    {
     "data": {
      "text/plain": [
       "Geographic Coordinate\n",
       "<class 'tuple'>       7503\n",
       "<class 'NoneType'>      55\n",
       "Name: count, dtype: int64"
      ]
     },
     "execution_count": 31,
     "metadata": {},
     "output_type": "execute_result"
    }
   ],
   "source": [
    "# Muestra tipos únicos en la columna\n",
    "df_ucs['Geographic Coordinate'].apply(type).value_counts()"
   ]
  },
  {
   "cell_type": "code",
   "execution_count": 32,
   "id": "445e6923",
   "metadata": {},
   "outputs": [],
   "source": [
    "# Creamos un mask para filtrar la filas con coordenadas válidas (tuplas) ya que hay otras que no tienen coordenadas, es decir nulas. El .notna() te devuelve True or False\n",
    "mask = df_ucs['Geographic Coordinate'].notna()"
   ]
  },
  {
   "cell_type": "code",
   "execution_count": 33,
   "id": "1c6f0697",
   "metadata": {},
   "outputs": [],
   "source": [
    "# Extraer latitud y longitud solo donde hay coordenadas válidas.\n",
    "# 1o seleccionamos las filas válidas, quitamos los paréntesis con strip, separamos por la coma con split y convertimos a float\n",
    "# 2o Ponemos nombre a las dos nuevas columnas y las insertamos de nuevo cuando Mask es True\n",
    "coords = df_ucs.loc[mask, 'Geographic Coordinate'].astype(str)\n",
    "lat_lon = coords.str.strip('()').str.split(', ', expand=True).astype(float)\n",
    "lat_lon.columns = ['lat', 'lon']\n",
    "df_ucs.loc[mask, ['lat', 'lon']] = lat_lon"
   ]
  },
  {
   "cell_type": "code",
   "execution_count": 34,
   "id": "a5e88e75",
   "metadata": {},
   "outputs": [],
   "source": [
    "# Formatear la fecha a string para las llamadas a la API, la dejamos en formato datetime ('%Y-%m-%d' convierte a año-mes-día, el formato que pide la API)\n",
    "df_ucs['date'] = df_ucs['Date of Launch'].dt.strftime('%Y-%m-%d')"
   ]
  },
  {
   "cell_type": "code",
   "execution_count": 37,
   "id": "9dd0b594",
   "metadata": {},
   "outputs": [],
   "source": [
    "# Definimos la función que consulta la API open-Meteo\n",
    "def open_meteo_data(lat, lon, date):\n",
    "    url = (\n",
    "        \"https://archive-api.open-meteo.com/v1/archive?\"\n",
    "        f\"latitude={lat}&longitude={lon}&start_date={date}&end_date={date}\"\n",
    "        \"&daily=weathercode,temperature_2m_mean,precipitation_sum,\"\n",
    "        \"precipitation_hours,windspeed_10m_max,windgusts_10m_max,\"\n",
    "        \"cloudcover_mean,precipitation_probability_mean,\"\n",
    "        \"relative_humidity_2m_mean,visibility_mean\"\n",
    "        \"&timezone=UTC\"\n",
    "    ) # Contruimos la urls según la documentación y según las variables que queremos\n",
    "    try:\n",
    "        res = requests.get(url)\n",
    "        res.raise_for_status() # Si la respuesta no es 200, lanzará un error\n",
    "        data = res.json() # Pasamos la respuesta a un diccionaio de python\n",
    "        if 'daily' not in data or not data['daily']['time']:\n",
    "            return [None] * 10 # Si no devuelve datos diarios, devolvemos 10 nones (ya que hay 10 variables)\n",
    "        d = data['daily'] # Para guardar en la variable d el contenido de 'daily' del JSON que devuelve la API\n",
    "        return [\n",
    "            d['weathercode'][0],\n",
    "            d['temperature_2m_mean'][0],\n",
    "            d['precipitation_sum'][0],\n",
    "            d['precipitation_hours'][0],\n",
    "            d['windspeed_10m_max'][0],\n",
    "            d['windgusts_10m_max'][0],\n",
    "            d['cloudcover_mean'][0],\n",
    "            d['precipitation_probability_mean'][0],\n",
    "            d['relative_humidity_2m_mean'][0],\n",
    "            d['visibility_mean'][0]\n",
    "        ] # Devolvemos cada valor que hemos pedido en formato lista\n",
    "    except Exception as e:\n",
    "        print(f\"Error en {lat}, {lon}, {date}: {e}\")\n",
    "        return [None] * 10 # Si algo falla, imprime y devuelve 10 nones (uno por cada categoría)"
   ]
  },
  {
   "cell_type": "code",
   "execution_count": 38,
   "id": "ef0e779a",
   "metadata": {},
   "outputs": [],
   "source": [
    "# Columnas que quiero añdir\n",
    "columns = [\n",
    "    'weathercode', 'temperature_2m_mean', 'precipitation_sum', 'precipitation_hours',\n",
    "    'windspeed_10m_max', 'windgusts_10m_max', 'cloudcover_mean',\n",
    "    'precipitation_probability_mean', 'relative_humidity_2m_mean', 'visibility_mean'\n",
    "]\n",
    "df_ucs[columns] = None # Creamos las columnas vacías (None) en el df"
   ]
  },
  {
   "cell_type": "code",
   "execution_count": 39,
   "id": "2663ce86",
   "metadata": {},
   "outputs": [],
   "source": [
    "# Iteraramos sobre filas válidas para llenar los datos\n",
    "for i in df_ucs[mask].index: # Recorre solo los índices donde mask es True (filas con coordenadas)\n",
    "    lat, lon, date = df_ucs.loc[i, ['lat', 'lon', 'date']] # Recuperamos lat/lon/date de la fila i, saca los 3 valores de esa fila\n",
    "    weather_data = open_meteo_data(lat, lon, date) # Usamos la función de la API y guardamos esos 10 valores\n",
    "    df_ucs.loc[i, columns] = weather_data # Asignamos esos datos a las 10 columnas de la misma fila\n",
    "    time.sleep(0.5) # Esto sirve para pausar un segundo entre petición y no sobrecargar la API"
   ]
  },
  {
   "cell_type": "code",
   "execution_count": 40,
   "id": "182353f9",
   "metadata": {},
   "outputs": [],
   "source": [
    "df_ucs.drop(columns=['precipitation_probability_mean', 'visibility_mean'], inplace=True)"
   ]
  },
  {
   "cell_type": "code",
   "execution_count": 41,
   "id": "23c8f321",
   "metadata": {},
   "outputs": [],
   "source": [
    "# Función que recibe el número de weathercode y según en qué rango esté, devuelve una descripción\n",
    "# Después con .apply() lo aplicaremos a cada fila según los datos de la columna 'weathercode' para guardarlo todo en otra columna: 'weather_summary'\n",
    "def map_weather_code(code):\n",
    "    if code is None:  # Si el código es None, devolvemos 'Desconocido'\n",
    "        return \"Desconocido\"\n",
    "    if code == 0:\n",
    "        return \"Soleado\"\n",
    "    elif 1 <= code <= 3:\n",
    "        return \"Parcialmente nublado\"\n",
    "    elif 45 <= code <= 48:\n",
    "        return \"Niebla\"\n",
    "    elif 51 <= code <= 67:\n",
    "        return \"Lluvia ligera\"\n",
    "    elif 71 <= code <= 77:\n",
    "        return \"Nieve\"\n",
    "    elif 80 <= code <= 82:\n",
    "        return \"Lluvias fuertes\"\n",
    "    elif 95 <= code <= 99:\n",
    "        return \"Tormentas eléctricas\"\n",
    "    else:\n",
    "        return \"Desconocido\"\n",
    "\n",
    "# Aplicar la función a la columna 'weathercode', manejando los valores None\n",
    "df_ucs['weather_summary'] = df_ucs['weathercode'].apply(map_weather_code)"
   ]
  },
  {
   "cell_type": "markdown",
   "id": "7dd04fc2",
   "metadata": {},
   "source": [
    "## Seguimos con la limpieza"
   ]
  },
  {
   "cell_type": "code",
   "execution_count": 42,
   "id": "24bb6bbf",
   "metadata": {},
   "outputs": [
    {
     "data": {
      "text/plain": [
       "Index(['Date of Launch', 'Geographic Coordinate', 'COSPAR Number',\n",
       "       'NORAD Number', 'Current Official Name of Satellite', 'Launch Site',\n",
       "       'Country/Org of UN Registry', 'Country of Operator/Owner',\n",
       "       'Operator/Owner', 'Launch Vehicle', 'Expected Lifetime (yrs.)',\n",
       "       'Contractor', 'Country of Contractor', 'Users', 'Purpose',\n",
       "       'Detailed Purpose', 'Class of Orbit', 'Type of Orbit',\n",
       "       'Longitude of GEO (degrees)', 'Perigee (km)', 'Apogee (km)',\n",
       "       'Eccentricity', 'Inclination (degrees)', 'Period (minutes)',\n",
       "       'Launch Mass (kg.)', 'Dry Mass (kg.)', 'Power (watts)', 'Comments',\n",
       "       'Unnamed: 27', 'Source Used for Orbital Data', 'lat', 'lon', 'date',\n",
       "       'weathercode', 'temperature_2m_mean', 'precipitation_sum',\n",
       "       'precipitation_hours', 'windspeed_10m_max', 'windgusts_10m_max',\n",
       "       'cloudcover_mean', 'relative_humidity_2m_mean', 'weather_summary'],\n",
       "      dtype='object')"
      ]
     },
     "execution_count": 42,
     "metadata": {},
     "output_type": "execute_result"
    }
   ],
   "source": [
    "df_ucs.columns"
   ]
  },
  {
   "cell_type": "markdown",
   "id": "98348917",
   "metadata": {},
   "source": [
    "### Arreglar columna 'Country/Org of UN Registry'"
   ]
  },
  {
   "cell_type": "code",
   "execution_count": 43,
   "id": "d443484a",
   "metadata": {},
   "outputs": [
    {
     "data": {
      "text/plain": [
       "array(['USA', 'United Kingdom', 'Japan', 'Brazil', 'NR', 'Luxembourg',\n",
       "       'ESA', 'France', 'Canada', 'Italy', 'Sweden', 'Germany', 'Russia',\n",
       "       'EUMETSAT/ESA', 'Spain', 'Saudi Arabia', 'Greece',\n",
       "       'United Arab Emirates', 'Australia', 'India', 'China', 'EUMETSAT',\n",
       "       'Mexico', 'South Korea', 'Indonesia', 'Norway', 'Turkey',\n",
       "       'Thailand', 'Malaysia', 'Algeria', 'Kazakhstan', 'Pakistan',\n",
       "       'Nigeria', 'Chile', 'Belarus', 'Venezuela', 'China/Sri Lanka',\n",
       "       'Azerbaijan', 'Austria', 'South Africa', 'Bolivia', 'Iraq',\n",
       "       'Argentina', 'Inda', 'United KIngdom', 'Laos', 'Denmark', 'Peru',\n",
       "       'Uruguay', 'Finland', 'Belgium', 'Israel', 'NR (12/20)',\n",
       "       'Colombia', 'Lithuania', 'NR ', 'Czech Republic', 'New Zealand',\n",
       "       'Egypt', 'Ethiopia', 'NR (1/22)', 'NR (5/21)', 'NR (9/21)',\n",
       "       'NR (4/22)', 'Netherlands', 'NR (9/22)', 'NR (9_22)', 'NR (12/22)',\n",
       "       'NR (9/23)', nan], dtype=object)"
      ]
     },
     "execution_count": 43,
     "metadata": {},
     "output_type": "execute_result"
    }
   ],
   "source": [
    "df_ucs['Country/Org of UN Registry'].unique()"
   ]
  },
  {
   "cell_type": "code",
   "execution_count": 44,
   "id": "8aed8158",
   "metadata": {},
   "outputs": [],
   "source": [
    "# Reemplazar todas las variantes de NR (Not Recorded) por Unknown\n",
    "df_ucs['Country/Org of UN Registry'] = df_ucs['Country/Org of UN Registry'].replace({\n",
    "    'NR': 'Unknown',\n",
    "    'NR (12/20)': 'Unknown',\n",
    "    'NR ': 'Unknown',\n",
    "    'NR(12/20)': 'Unknown',\n",
    "    'NR (1/22)': 'Unknown',\n",
    "    'NR (5/21)': 'Unknown',\n",
    "    'NR (9/21)': 'Unknown',\n",
    "    'NR (4/22)': 'Unknown',\n",
    "    'NR (9/22)': 'Unknown',\n",
    "    'NR (9_22)': 'Unknown',\n",
    "    'NR (12/22)': 'Unknown',\n",
    "    'NR (9/23)': 'Unknown'\n",
    "})\n",
    "\n",
    "# Unificar errores de escritura y duplicados\n",
    "df_ucs['Country/Org of UN Registry'] = df_ucs['Country/Org of UN Registry'].replace({\n",
    "    'United KIngdom': 'United Kingdom',\n",
    "    'Inda': 'India'\n",
    "})\n",
    "\n",
    "# Agrupar registros similares\n",
    "df_ucs['Country/Org of UN Registry'] = df_ucs['Country/Org of UN Registry'].replace('China/Sri Lanka', 'China')\n",
    "\n",
    "# Unirficar EUMETSAT\n",
    "df_ucs['Country/Org of UN Registry'] = df_ucs['Country/Org of UN Registry'].replace('EUMETSAT/ESA', 'EUMETSAT')\n",
    "\n",
    "# Eliminar espacios en blanco\n",
    "df_ucs['Country/Org of UN Registry'] = df_ucs['Country/Org of UN Registry'].str.strip()\n",
    "\n",
    "# Rellenar nulos con 'Unknown'\n",
    "df_ucs['Country/Org of UN Registry'] = df_ucs['Country/Org of UN Registry'].fillna('Unknown')\n"
   ]
  },
  {
   "cell_type": "code",
   "execution_count": 45,
   "id": "0a157697",
   "metadata": {},
   "outputs": [],
   "source": [
    "# Agrupar países que siempre que han lanzado un satélite, ya estaban dentro de la 'ESA', exceptuando Greece y Luxembourg que tienen lanzamientos anteriores a su entrada\n",
    "esa_group = ['France', 'Germany', 'Italy', 'Spain', 'Belgium', 'Sweden',\n",
    "             'Austria', 'Finland', 'Norway', 'Denmark', 'Netherlands',\n",
    "             'United Kingdom', 'Switzerland', 'Czech Republic',\n",
    "             'Hungary', 'Poland']\n",
    "\n",
    "df_ucs['Country/Org of UN Registry'] = df_ucs['Country/Org of UN Registry'].replace(esa_group, 'ESA')\n",
    "\n",
    "# Limpiar espacios en blanco\n",
    "df_ucs['Country/Org of UN Registry'] = df_ucs['Country/Org of UN Registry'].str.strip()"
   ]
  },
  {
   "cell_type": "markdown",
   "id": "3259ff3a",
   "metadata": {},
   "source": [
    "### Arreglar y analizar la columna 'Operator/Owner'"
   ]
  },
  {
   "cell_type": "code",
   "execution_count": 46,
   "id": "eb71e6c9",
   "metadata": {},
   "outputs": [
    {
     "data": {
      "text/plain": [
       "668"
      ]
     },
     "execution_count": 46,
     "metadata": {},
     "output_type": "execute_result"
    }
   ],
   "source": [
    "df_ucs['Operator/Owner'].nunique()"
   ]
  },
  {
   "cell_type": "code",
   "execution_count": 47,
   "id": "9c4956eb",
   "metadata": {},
   "outputs": [
    {
     "data": {
      "text/plain": [
       "Operator/Owner\n",
       "SpaceX                                  3950\n",
       "OneWeb Satellites                        589\n",
       "Planet Labs, Inc.                        220\n",
       "Chinese Ministry of National Defense     149\n",
       "Spire Global Inc.                        135\n",
       "                                        ... \n",
       "Hellas-Sat Consortium Ltd./INMARSAT        1\n",
       "University of Montpellier                  1\n",
       "FH Aachen                                  1\n",
       "Bulsatcom                                  1\n",
       "VISIONA Tecnologia Espacial S.A.           1\n",
       "Name: count, Length: 668, dtype: int64"
      ]
     },
     "execution_count": 47,
     "metadata": {},
     "output_type": "execute_result"
    }
   ],
   "source": [
    "operator_counts = df_ucs['Operator/Owner'].value_counts()\n",
    "operator_counts"
   ]
  },
  {
   "cell_type": "code",
   "execution_count": 48,
   "id": "cc9d14b0",
   "metadata": {},
   "outputs": [
    {
     "data": {
      "text/plain": [
       "Operator/Owner\n",
       "SpaceX                                       3950\n",
       "OneWeb Satellites                             589\n",
       "Planet Labs, Inc.                             220\n",
       "Chinese Ministry of National Defense          149\n",
       "Spire Global Inc.                             135\n",
       "Ministry of Defense                           117\n",
       "Swarm Technologies                             90\n",
       "Iridium Communications, Inc.                   75\n",
       "Chang Guang Satellite Technology Co. Ltd.      60\n",
       "China Academy of Space Technology (CAST)       49\n",
       "National Reconnaissance Office (NRO)           48\n",
       "Indian Space Research Organization (ISRO)      47\n",
       "Spacex                                         46\n",
       "SES S.A.                                       46\n",
       "European Space Agency (ESA)                    40\n",
       "Name: count, dtype: int64"
      ]
     },
     "execution_count": 48,
     "metadata": {},
     "output_type": "execute_result"
    }
   ],
   "source": [
    "top_15_operators = operator_counts.head(15)\n",
    "top_15_operators"
   ]
  },
  {
   "cell_type": "markdown",
   "id": "2e40b983",
   "metadata": {},
   "source": [
    "### Arreglar y analizar la columna 'Launch Vehicle'"
   ]
  },
  {
   "cell_type": "code",
   "execution_count": 50,
   "id": "05558df4",
   "metadata": {},
   "outputs": [
    {
     "data": {
      "text/plain": [
       "165"
      ]
     },
     "execution_count": 50,
     "metadata": {},
     "output_type": "execute_result"
    }
   ],
   "source": [
    "df_ucs['Launch Vehicle'].nunique()"
   ]
  },
  {
   "cell_type": "code",
   "execution_count": 52,
   "id": "3f3fac68",
   "metadata": {},
   "outputs": [
    {
     "data": {
      "text/plain": [
       "Launch Vehicle\n",
       "Falcon 9                  4731\n",
       "Soyuz-2.1b                 475\n",
       "PSLV                       189\n",
       "Long March 2D              147\n",
       "Atlas 5                    114\n",
       "                          ... \n",
       "Space Shuttle (STS 26)       1\n",
       "Delta 7420                   1\n",
       "PSLV C10                     1\n",
       "Zenit 2M                     1\n",
       "PSLV C17                     1\n",
       "Name: count, Length: 165, dtype: int64"
      ]
     },
     "execution_count": 52,
     "metadata": {},
     "output_type": "execute_result"
    }
   ],
   "source": [
    "launch_vehicle_counts = df_ucs['Launch Vehicle'].value_counts()\n",
    "launch_vehicle_counts"
   ]
  },
  {
   "cell_type": "code",
   "execution_count": 53,
   "id": "046e765e",
   "metadata": {},
   "outputs": [
    {
     "data": {
      "text/plain": [
       "Launch Vehicle\n",
       "Falcon 9         4731\n",
       "Soyuz-2.1b        475\n",
       "PSLV              189\n",
       "Long March 2D     147\n",
       "Atlas 5           114\n",
       "Electron          102\n",
       "Ariane 5           95\n",
       "Soyuz-2.1a         88\n",
       "Long March 3B      86\n",
       "Long March 2C      79\n",
       "Name: count, dtype: int64"
      ]
     },
     "execution_count": 53,
     "metadata": {},
     "output_type": "execute_result"
    }
   ],
   "source": [
    "top_10_launch_vehicles = launch_vehicle_counts.head(10)\n",
    "top_10_launch_vehicles"
   ]
  },
  {
   "cell_type": "markdown",
   "id": "535beaab",
   "metadata": {},
   "source": [
    "### Arreglar y analizar columna \"Expected Lifetime (yrs.)\""
   ]
  },
  {
   "cell_type": "code",
   "execution_count": 55,
   "id": "1adec9a8",
   "metadata": {},
   "outputs": [
    {
     "data": {
      "text/plain": [
       "Expected Lifetime (yrs.)\n",
       "<class 'float'>    7558\n",
       "Name: count, dtype: int64"
      ]
     },
     "execution_count": 55,
     "metadata": {},
     "output_type": "execute_result"
    }
   ],
   "source": [
    "df_ucs[\"Expected Lifetime (yrs.)\"].apply(type).value_counts()"
   ]
  },
  {
   "cell_type": "code",
   "execution_count": 56,
   "id": "a3306504",
   "metadata": {},
   "outputs": [
    {
     "name": "stdout",
     "output_type": "stream",
     "text": [
      "7558\n",
      "5450\n",
      "2108\n",
      "count    5450.000000\n",
      "mean        5.350413\n",
      "std         3.421953\n",
      "min         0.250000\n",
      "25%         4.000000\n",
      "50%         4.000000\n",
      "75%         5.000000\n",
      "max        30.000000\n",
      "Name: Expected Lifetime (yrs.), dtype: float64\n",
      "Mediana: 4.0\n",
      "Moda: 4.0\n"
     ]
    }
   ],
   "source": [
    "# Ver los valores no nulos y los que faltan\n",
    "print(len(df_ucs)) # Total\n",
    "print(df_ucs[\"Expected Lifetime (yrs.)\"].notna().sum()) # Con valor\n",
    "print(df_ucs[\"Expected Lifetime (yrs.)\"].isna().sum()) # Sin valor\n",
    "\n",
    "# Estadísticas básicas\n",
    "print(df_ucs[\"Expected Lifetime (yrs.)\"].describe())\n",
    "\n",
    "# Mediana\n",
    "print(\"Mediana:\", df_ucs[\"Expected Lifetime (yrs.)\"].median())\n",
    "\n",
    "# Moda (el valor más frecuente)\n",
    "print(\"Moda:\", df_ucs[\"Expected Lifetime (yrs.)\"].mode()[0])\n"
   ]
  },
  {
   "cell_type": "markdown",
   "id": "563f1acd",
   "metadata": {},
   "source": [
    "##### Estadísticas explicadas:\n",
    "- count: Nos dice cuántos valores no vacíos hay: 5.450 satélites tienen valor\n",
    "- mean: La media (promedio) de años esperados de vida útil: 5.35 años\n",
    "- std: La desviación estándar, mide cuánto varían los valores respecto a la media, cuanto más alto, más dispersos están. Si std es tan grande como la media significa que los datos están muy dispersos. Si es mucho menor, están bien agrupados. Nosotros Tenemos 3.42 (3.42/5.35 = 0.64), por lo que hay una dispersión moderada\n",
    "- min: Es el valor más pequeño, hay un satélite que esperaba durar solo 0.25 años\n",
    "- 25%: El percentil indica que el 25% más bajo de los satélites tenía menos de 4 años de vida útil\n",
    "- 50%: El percentil 50 (mediana) nos dice que la mitad de los satélites duran 4 años o menos\n",
    "- 75%: El percentil 75 dice que el 75% de los satélites duran 5 años o menos\n",
    "- max: El valor más alto dice que hay un satélite con 30 años de vida esperada"
   ]
  },
  {
   "cell_type": "markdown",
   "id": "c59a8f03",
   "metadata": {},
   "source": [
    "### Arreglar y analizar columna 'Contractor'"
   ]
  },
  {
   "cell_type": "code",
   "execution_count": 57,
   "id": "f60aff4e",
   "metadata": {},
   "outputs": [
    {
     "data": {
      "text/plain": [
       "577"
      ]
     },
     "execution_count": 57,
     "metadata": {},
     "output_type": "execute_result"
    }
   ],
   "source": [
    "df_ucs['Contractor'].nunique()"
   ]
  },
  {
   "cell_type": "code",
   "execution_count": 58,
   "id": "0608e919",
   "metadata": {},
   "outputs": [
    {
     "data": {
      "text/plain": [
       "Contractor\n",
       "SpaceX                                      3996\n",
       "OneWeb Satellites/Airbus                     502\n",
       "Planet Labs, Inc.                            199\n",
       "China Academy of Space Technology (CAST)     182\n",
       "Spire Global                                 135\n",
       "                                            ... \n",
       "MIT/LL-UM Amherst                              1\n",
       "Astranis                                       1\n",
       "NASA Small Satellite Technology Program        1\n",
       "Vanderbilt University/AMSAT                    1\n",
       "Visiona Tecnologia Espacial                    1\n",
       "Name: count, Length: 577, dtype: int64"
      ]
     },
     "execution_count": 58,
     "metadata": {},
     "output_type": "execute_result"
    }
   ],
   "source": [
    "contractor_counts = df_ucs['Contractor'].value_counts()\n",
    "contractor_counts"
   ]
  },
  {
   "cell_type": "code",
   "execution_count": 59,
   "id": "6717ffc5",
   "metadata": {},
   "outputs": [
    {
     "data": {
      "text/plain": [
       "Contractor\n",
       "SpaceX                                               3996\n",
       "OneWeb Satellites/Airbus                              502\n",
       "Planet Labs, Inc.                                     199\n",
       "China Academy of Space Technology (CAST)              182\n",
       "Spire Global                                          135\n",
       "Space Systems/Loral                                   105\n",
       "Thales Alenia Space                                   100\n",
       "Swarm Technologies                                     90\n",
       "OneWeb Satellites                                      87\n",
       "Thales Alenia Space/Orbital ATK                        75\n",
       "Boeing Satellite Systems                               71\n",
       "ISS Reshetnev                                          68\n",
       "Orbital Sciences Corp.                                 64\n",
       "Chang Guang Satellite Technology Co. Ltd.              60\n",
       "Shanghai Academy of Spaceflight Technology (SAST)      52\n",
       "Name: count, dtype: int64"
      ]
     },
     "execution_count": 59,
     "metadata": {},
     "output_type": "execute_result"
    }
   ],
   "source": [
    "top_15_contractors = contractor_counts.head(15)\n",
    "top_15_contractors"
   ]
  },
  {
   "cell_type": "markdown",
   "id": "7a7a51cb",
   "metadata": {},
   "source": [
    "### Arreglar y analizar columna 'Users'"
   ]
  },
  {
   "cell_type": "code",
   "execution_count": 61,
   "id": "0e0dfa87",
   "metadata": {},
   "outputs": [
    {
     "data": {
      "text/plain": [
       "array(['Civil', 'Government', 'Military', 'Government/Commercial',\n",
       "       'Commercial', 'Military/Commercial', 'Government/Civil',\n",
       "       'Government/Commercial/Military', 'Military/Government',\n",
       "       'Military/Civil', 'Government/Military', 'Military ',\n",
       "       'Civil/Government', 'Commercial/Military', 'Commercial ',\n",
       "       'Commercial/Civil', 'Commercial/Government', 'Civil/Military',\n",
       "       'Government ', 'Civil/Commercial'], dtype=object)"
      ]
     },
     "execution_count": 61,
     "metadata": {},
     "output_type": "execute_result"
    }
   ],
   "source": [
    "df_ucs['Users'].unique()"
   ]
  },
  {
   "cell_type": "code",
   "execution_count": 62,
   "id": "d58e8634",
   "metadata": {},
   "outputs": [],
   "source": [
    "# Eliminar espacios en blanco al principio y final\n",
    "df_ucs[\"Users\"] = df_ucs[\"Users\"].str.strip()\n",
    "\n",
    "# Corregir erores de escritura\n",
    "df_ucs[\"Users\"] = df_ucs[\"Users\"].replace(\"Military \", \"Military\")\n",
    "df_ucs[\"Users\"] = df_ucs[\"Users\"].replace(\"Commercial \", \"Commercial\")\n",
    "df_ucs[\"Users\"] = df_ucs[\"Users\"].replace(\"Government \", \"Government\")\n",
    "\n",
    "# Unificar combinaciones con orden alfabético\n",
    "df_ucs[\"Users\"] = df_ucs[\"Users\"].replace(\"Government/Civil\", \"Civil/Government\")\n",
    "df_ucs[\"Users\"] = df_ucs[\"Users\"].replace(\"Military/Government\", \"Government/Military\")\n",
    "df_ucs[\"Users\"] = df_ucs[\"Users\"].replace(\"Military/Civil\", \"Civil/Military\")\n",
    "df_ucs[\"Users\"] = df_ucs[\"Users\"].replace(\"Military/Commercial\", \"Commercial/Military\")\n",
    "df_ucs[\"Users\"] = df_ucs[\"Users\"].replace(\"Government/Commercial\", \"Commercial/Government\")\n",
    "df_ucs[\"Users\"] = df_ucs[\"Users\"].replace(\"Commercial/Civil\", \"Civil/Commercial\")\n",
    "\n",
    "# Ordenar 3 categorias\n",
    "df_ucs[\"Users\"] = df_ucs[\"Users\"].replace(\"Government/Commercial/Military\", \"Commercial/Government/Military\")\n",
    "\n",
    "# Limpieza de espacios\n",
    "df_ucs[\"Users\"] = df_ucs[\"Users\"].str.strip()"
   ]
  },
  {
   "cell_type": "code",
   "execution_count": 63,
   "id": "9f23d84f",
   "metadata": {},
   "outputs": [
    {
     "data": {
      "text/plain": [
       "Counter({'Commercial': 6267, 'Government': 762, 'Military': 613, 'Civil': 219})"
      ]
     },
     "execution_count": 63,
     "metadata": {},
     "output_type": "execute_result"
    }
   ],
   "source": [
    "from collections import Counter\n",
    "# Primero unimos todos los valores de la columna en un solo string\n",
    "usuarios_unidos = \"/\".join(df_ucs[\"Users\"].dropna().tolist())\n",
    "# Separamos todos los elementos individuales\n",
    "usuarios_separados = usuarios_unidos.split(\"/\")\n",
    "# Contamos cuántas veces aparece cada uno\n",
    "conteo = Counter(usuarios_separados)\n",
    "conteo\n"
   ]
  },
  {
   "cell_type": "markdown",
   "id": "100458d8",
   "metadata": {},
   "source": [
    "### Arreglar y analizar columna 'Purpose'"
   ]
  },
  {
   "cell_type": "code",
   "execution_count": 64,
   "id": "34b0d98a",
   "metadata": {},
   "outputs": [
    {
     "data": {
      "text/plain": [
       "array(['Communications', 'Space Science', 'Earth Observation',\n",
       "       'Navigation/Global Positioning', 'Earth Science',\n",
       "       'Earth Observation/Technology Development',\n",
       "       'Technology Demonstration', 'Technology Development',\n",
       "       'Communications/Technology Development',\n",
       "       'Communications/Maritime Tracking',\n",
       "       'Earth Observation/Communications',\n",
       "       'Navigation/Regional Positioning', 'Space Observation',\n",
       "       'Communications/Navigation', 'Technology Development/Educational',\n",
       "       'Earth Observation/Communications/Space Science',\n",
       "       'Earth Observation ', 'Space Science/Technology Development',\n",
       "       'Earth Science/Earth Observation',\n",
       "       'Earth Observation/Space Science', 'Surveillance',\n",
       "       'Earth Observation/Earth Science', 'Educational',\n",
       "       'Mission Extension Technology', 'Earth/Space Observation',\n",
       "       'Space Science/Technology Demonstration', 'Unknown', 'Platform',\n",
       "       'Satellite Positioning', 'Earth Observation/Navigation',\n",
       "       'Meteorological'], dtype=object)"
      ]
     },
     "execution_count": 64,
     "metadata": {},
     "output_type": "execute_result"
    }
   ],
   "source": [
    "df_ucs['Purpose'].unique()"
   ]
  },
  {
   "cell_type": "code",
   "execution_count": 66,
   "id": "b613ebe7",
   "metadata": {},
   "outputs": [],
   "source": [
    "# Eliminar espacios\n",
    "df_ucs[\"Purpose\"] = df_ucs[\"Purpose\"].str.strip()\n",
    "\n",
    "# Corregir valores con espacios\n",
    "df_ucs[\"Purpose\"] = df_ucs[\"Purpose\"].replace(\"Earth Observation \", \"Earth Observation\")\n",
    "# Unificar\n",
    "df_ucs[\"Purpose\"] = df_ucs[\"Purpose\"].replace(\"Surveillance\", \"Military\")\n",
    "df_ucs[\"Purpose\"] = df_ucs[\"Purpose\"].replace(\"Educational\", \"Education\")\n",
    "df_ucs[\"Purpose\"] = df_ucs[\"Purpose\"].replace(\"Mission Extension Technology\", \"Technology Development\")\n",
    "df_ucs[\"Purpose\"] = df_ucs[\"Purpose\"].replace(\"Platform\", \"Technology Development\")\n",
    "df_ucs[\"Purpose\"] = df_ucs[\"Purpose\"].replace(\"Technology Demonstration\", \"Technology Development\")\n",
    "df_ucs[\"Purpose\"] = df_ucs[\"Purpose\"].replace(\"Communications/Maritime Tracking\", \"Communications\")\n",
    "df_ucs[\"Purpose\"] = df_ucs[\"Purpose\"].replace(\"Space Science/Technology Demonstration\", \"Space Science/Technology Development\")\n",
    "df_ucs[\"Purpose\"] = df_ucs[\"Purpose\"].replace(\"Technology Development/Educational\", \"Technology Development/Education\")\n",
    "\n",
    "df_ucs[\"Purpose\"] = df_ucs[\"Purpose\"].replace(['Global Positioning', 'Regional Positioning', 'Satellite Positioning', 'Navigation', 'Navigation/Global Positioning', 'Navigation/Regional Positioning'], \n",
    "                                              'Satellite Navigation')\n",
    "\n",
    "df_ucs[\"Purpose\"] = df_ucs[\"Purpose\"].replace('Communications/Navigation', 'Communications/Satellite Navigation')\n",
    "df_ucs[\"Purpose\"] = df_ucs[\"Purpose\"].replace('Earth Observation/Navigation', 'Earth Observation/Satellite Navigation')\n",
    "\n"
   ]
  },
  {
   "cell_type": "code",
   "execution_count": null,
   "id": "05b48599",
   "metadata": {},
   "outputs": [],
   "source": [
    "#df_ucs[\"Purpose\"] = df_ucs[\"Purpose\"].replace(\"Earth\", \"Earth Observation/Earth Science\")"
   ]
  },
  {
   "cell_type": "code",
   "execution_count": 67,
   "id": "98e8ee29",
   "metadata": {},
   "outputs": [
    {
     "data": {
      "text/plain": [
       "Counter({'Communications': 5527,\n",
       "         'Earth Observation': 1258,\n",
       "         'Technology Development': 454,\n",
       "         'Satellite Navigation': 166,\n",
       "         'Space Science': 103,\n",
       "         'Earth Science': 30,\n",
       "         'Military': 20,\n",
       "         'Space Observation': 13,\n",
       "         'Unknown': 10,\n",
       "         'Meteorological': 6,\n",
       "         'Earth': 4,\n",
       "         'Education': 3})"
      ]
     },
     "execution_count": 67,
     "metadata": {},
     "output_type": "execute_result"
    }
   ],
   "source": [
    "# Primero unimos todos los valores de la columna en un solo string\n",
    "purpose_unido = \"/\".join(df_ucs[\"Purpose\"].dropna().tolist())\n",
    "# Separamos todos los elementos individuales\n",
    "purpose_separado = purpose_unido.split(\"/\")\n",
    "# Contamos cuántas veces aparece cada uno\n",
    "conteo_purpose = Counter(purpose_separado)\n",
    "conteo_purpose\n"
   ]
  },
  {
   "cell_type": "markdown",
   "id": "19e594f8",
   "metadata": {},
   "source": [
    "### Arreglar y analizar columna 'Class of Orbit'"
   ]
  },
  {
   "cell_type": "code",
   "execution_count": 68,
   "id": "2d419557",
   "metadata": {},
   "outputs": [
    {
     "data": {
      "text/plain": [
       "array(['LEO', 'GEO', 'Elliptical', 'MEO', 'LEo'], dtype=object)"
      ]
     },
     "execution_count": 68,
     "metadata": {},
     "output_type": "execute_result"
    }
   ],
   "source": [
    "df_ucs['Class of Orbit'].unique()"
   ]
  },
  {
   "cell_type": "code",
   "execution_count": 69,
   "id": "cbe76234",
   "metadata": {},
   "outputs": [],
   "source": [
    "df_ucs['Class of Orbit'] = df_ucs['Class of Orbit'].replace('LEo', 'LEO')"
   ]
  },
  {
   "cell_type": "code",
   "execution_count": 70,
   "id": "ee0057f8",
   "metadata": {},
   "outputs": [
    {
     "data": {
      "text/plain": [
       "Class of Orbit\n",
       "LEO           6766\n",
       "GEO            590\n",
       "MEO            143\n",
       "Elliptical      59\n",
       "Name: count, dtype: int64"
      ]
     },
     "execution_count": 70,
     "metadata": {},
     "output_type": "execute_result"
    }
   ],
   "source": [
    "df_ucs['Class of Orbit'].value_counts()"
   ]
  },
  {
   "cell_type": "markdown",
   "id": "8dd61c08",
   "metadata": {},
   "source": [
    "- LEO (Low Earth Orbit):\n",
    "    - Esta órbita se encuentra a una altitud de entre 160 y 2000 km sobre la Tierra (orbita baja)\n",
    "    - Se usa comúnmente para satélites de observación terrestre, estaciones espaciales (como la Estación Espacial Internacional) y satélites de comunicación\n",
    "- GEO (Geostationary Earth Orbit):\n",
    "    - Los satélites en una órbita geoestacionaria se encuentran a aproximadamente 35786 km sobre el ecuador terrestre\n",
    "    - Estos satélites tienen la misma velocidad de rotación que la Tierra, por lo que permanecen sobre el mismo punto de la superficie de la Tierra durante todo su recorrido\n",
    "    - Se utilizan principalmente para comunicaciones, meteorología y telecomunicaciones\n",
    "- MEO (Medium Earth Orbit):\n",
    "    - Se encuentra entre 2000 km y 35786 km sobre la Tierra, es decir, entre las órbitas LEO y GEO.\n",
    "    - Los satélites de navegación, como los satélites GPS, generalmente están en esta órbita.\n",
    "- Elliptical:\n",
    "    - Es una órbita elíptica, es decir, una órbita que no es perfectamente circular. La distancia del satélite respecto a la Tierra varía durante su órbita.\n",
    "    - Generalmente se usa en satélites que necesitan pasar cerca de la Tierra en algunas partes de su órbita y alejarse en otras (por ejemplo, satélites de comunicación en órbitas de tipo MOLNIYA)."
   ]
  },
  {
   "cell_type": "markdown",
   "id": "c35971c9",
   "metadata": {},
   "source": [
    "### Arreglar y analizar columna 'Type of Orbit'"
   ]
  },
  {
   "cell_type": "code",
   "execution_count": 71,
   "id": "897be81e",
   "metadata": {},
   "outputs": [
    {
     "data": {
      "text/plain": [
       "array(['Polar', nan, 'Non-Polar Inclined', 'Deep Highly Eccentric',\n",
       "       'Molniya', 'Sun-Synchronous', 'Equatorial', 'Elliptical',\n",
       "       'Cislunar', 'Sun-Synchronous near polar', 'Retrograde'],\n",
       "      dtype=object)"
      ]
     },
     "execution_count": 71,
     "metadata": {},
     "output_type": "execute_result"
    }
   ],
   "source": [
    "df_ucs['Type of Orbit'].unique()"
   ]
  },
  {
   "cell_type": "code",
   "execution_count": 72,
   "id": "8dc31095",
   "metadata": {},
   "outputs": [
    {
     "data": {
      "text/plain": [
       "Type of Orbit\n",
       "Non-Polar Inclined            4041\n",
       "Sun-Synchronous               1691\n",
       "Polar                         1096\n",
       "Equatorial                      38\n",
       "Molniya                         23\n",
       "Deep Highly Eccentric            9\n",
       "Elliptical                       5\n",
       "Sun-Synchronous near polar       2\n",
       "Cislunar                         1\n",
       "Retrograde                       1\n",
       "Name: count, dtype: int64"
      ]
     },
     "execution_count": 72,
     "metadata": {},
     "output_type": "execute_result"
    }
   ],
   "source": [
    "df_ucs['Type of Orbit'].value_counts()"
   ]
  },
  {
   "cell_type": "markdown",
   "id": "da488ac4",
   "metadata": {},
   "source": [
    "### Arreglar y analizar columna 'Longitude of GEO (degrees)'"
   ]
  },
  {
   "cell_type": "code",
   "execution_count": 73,
   "id": "cab9bc88",
   "metadata": {},
   "outputs": [
    {
     "data": {
      "text/plain": [
       "453"
      ]
     },
     "execution_count": 73,
     "metadata": {},
     "output_type": "execute_result"
    }
   ],
   "source": [
    "df_ucs['Longitude of GEO (degrees)'].nunique()"
   ]
  },
  {
   "cell_type": "code",
   "execution_count": 75,
   "id": "2e9e44a5",
   "metadata": {},
   "outputs": [
    {
     "name": "stdout",
     "output_type": "stream",
     "text": [
      "7558\n",
      "7556\n",
      "2\n",
      "count    7556.000000\n",
      "mean        1.704792\n",
      "std        26.293797\n",
      "min      -179.800000\n",
      "25%         0.000000\n",
      "50%         0.000000\n",
      "75%         0.000000\n",
      "max       359.000000\n",
      "Name: Longitude of GEO (degrees), dtype: float64\n",
      "Mediana: 0.0\n",
      "Moda: 0.0\n"
     ]
    }
   ],
   "source": [
    "# Ver los valores no nulos y los que faltan\n",
    "print(len(df_ucs)) # Total\n",
    "print(df_ucs['Longitude of GEO (degrees)'].notna().sum()) # Con valor\n",
    "print(df_ucs['Longitude of GEO (degrees)'].isna().sum()) # Sin valor\n",
    "\n",
    "# Estadísticas básicas\n",
    "print(df_ucs['Longitude of GEO (degrees)'].describe())\n",
    "\n",
    "# Mediana\n",
    "print(\"Mediana:\", df_ucs['Longitude of GEO (degrees)'].median())\n",
    "\n",
    "# Moda (el valor más frecuente)\n",
    "print(\"Moda:\", df_ucs['Longitude of GEO (degrees)'].mode()[0])"
   ]
  },
  {
   "cell_type": "markdown",
   "id": "3a64204f",
   "metadata": {},
   "source": [
    "- Significado: La longitud geográfica de un satélite en órbita geoestacionaria (GEO). Esta es la posición del satélite en el plano ecuatorial terrestre, medida en grados.\n",
    "\n",
    "- Análisis: Puedes calcular la media, mediana, desviación estándar, etc., para saber en qué longitud geográfica están ubicados principalmente los satélites GEO."
   ]
  },
  {
   "cell_type": "markdown",
   "id": "f2a1d4f1",
   "metadata": {},
   "source": [
    "### Arreglar y analizar columna 'Perigee (km)'"
   ]
  },
  {
   "cell_type": "code",
   "execution_count": 76,
   "id": "44f6ea4f",
   "metadata": {},
   "outputs": [
    {
     "data": {
      "text/plain": [
       "793"
      ]
     },
     "execution_count": 76,
     "metadata": {},
     "output_type": "execute_result"
    }
   ],
   "source": [
    "df_ucs['Perigee (km)'].nunique()"
   ]
  },
  {
   "cell_type": "code",
   "execution_count": 77,
   "id": "5ceb7346",
   "metadata": {},
   "outputs": [
    {
     "name": "stdout",
     "output_type": "stream",
     "text": [
      "7558\n",
      "7552\n",
      "6\n",
      "count     7552.000000\n",
      "mean      3704.371425\n",
      "std       9716.361912\n",
      "min        150.000000\n",
      "25%        521.000000\n",
      "50%        548.000000\n",
      "75%        600.250000\n",
      "max      62200.000000\n",
      "Name: Perigee (km), dtype: float64\n",
      "Mediana: 548.0\n",
      "Moda: 548.0\n"
     ]
    }
   ],
   "source": [
    "# Ver los valores no nulos y los que faltan\n",
    "print(len(df_ucs)) # Total\n",
    "print(df_ucs['Perigee (km)'].notna().sum()) # Con valor\n",
    "print(df_ucs['Perigee (km)'].isna().sum()) # Sin valor\n",
    "\n",
    "# Estadísticas básicas\n",
    "print(df_ucs['Perigee (km)'].describe())\n",
    "\n",
    "# Mediana\n",
    "print(\"Mediana:\", df_ucs['Perigee (km)'].median())\n",
    "\n",
    "# Moda (el valor más frecuente)\n",
    "print(\"Moda:\", df_ucs['Perigee (km)'].mode()[0])"
   ]
  },
  {
   "cell_type": "markdown",
   "id": "dd9152e6",
   "metadata": {},
   "source": [
    "- Significado: La distancia más cercana que tiene el satélite a la Tierra durante su órbita. El perigeo es el punto más cercano en la órbita de un satélite respecto a la Tierra.\n",
    "\n",
    "- Análisis: Este valor te permitirá saber qué tan cercanos están los satélites a la Tierra en promedio, lo cual es relevante para las órbitas LEO o MEO."
   ]
  },
  {
   "cell_type": "markdown",
   "id": "ce4edaa4",
   "metadata": {},
   "source": [
    "### Arreglar y analizar columna 'Apogee (km)'"
   ]
  },
  {
   "cell_type": "code",
   "execution_count": 78,
   "id": "137c87fe",
   "metadata": {},
   "outputs": [
    {
     "data": {
      "text/plain": [
       "784"
      ]
     },
     "execution_count": 78,
     "metadata": {},
     "output_type": "execute_result"
    }
   ],
   "source": [
    "df_ucs['Apogee (km)'].nunique()"
   ]
  },
  {
   "cell_type": "code",
   "execution_count": 79,
   "id": "afc54219",
   "metadata": {},
   "outputs": [
    {
     "name": "stdout",
     "output_type": "stream",
     "text": [
      "7558\n",
      "7552\n",
      "6\n",
      "count      7552.000000\n",
      "mean       4236.864142\n",
      "std       13123.801999\n",
      "min          49.000000\n",
      "25%         536.000000\n",
      "50%         561.000000\n",
      "75%         626.000000\n",
      "max      353798.000000\n",
      "Name: Apogee (km), dtype: float64\n",
      "Mediana: 561.0\n",
      "Moda: 541.0\n"
     ]
    }
   ],
   "source": [
    "# Ver los valores no nulos y los que faltan\n",
    "print(len(df_ucs)) # Total\n",
    "print(df_ucs['Apogee (km)'].notna().sum()) # Con valor\n",
    "print(df_ucs['Apogee (km)'].isna().sum()) # Sin valor\n",
    "\n",
    "# Estadísticas básicas\n",
    "print(df_ucs['Apogee (km)'].describe())\n",
    "\n",
    "# Mediana\n",
    "print(\"Mediana:\", df_ucs['Apogee (km)'].median())\n",
    "\n",
    "# Moda (el valor más frecuente)\n",
    "print(\"Moda:\", df_ucs['Apogee (km)'].mode()[0])"
   ]
  },
  {
   "cell_type": "markdown",
   "id": "cc54df19",
   "metadata": {},
   "source": [
    "- Significado: La distancia más lejana del satélite a la Tierra durante su órbita. El apogeo es el punto más alejado en la órbita de un satélite respecto a la Tierra.\n",
    "\n",
    "- Análisis: Similar al perigeo, el análisis de este dato te mostrará la distancia máxima de los satélites en sus órbitas."
   ]
  },
  {
   "cell_type": "markdown",
   "id": "528ce069",
   "metadata": {},
   "source": [
    "### Arreglar y analizar columna 'Eccentricity'"
   ]
  },
  {
   "cell_type": "code",
   "execution_count": 80,
   "id": "4658624f",
   "metadata": {},
   "outputs": [
    {
     "data": {
      "text/plain": [
       "1873"
      ]
     },
     "execution_count": 80,
     "metadata": {},
     "output_type": "execute_result"
    }
   ],
   "source": [
    "df_ucs['Eccentricity'].nunique()"
   ]
  },
  {
   "cell_type": "code",
   "execution_count": 81,
   "id": "d311cc9f",
   "metadata": {},
   "outputs": [
    {
     "name": "stdout",
     "output_type": "stream",
     "text": [
      "7558\n",
      "7548\n",
      "10\n",
      "count    7548.000000\n",
      "mean        0.480945\n",
      "std        15.568209\n",
      "min        -0.033429\n",
      "25%         0.000199\n",
      "50%         0.000296\n",
      "75%         0.000939\n",
      "max       575.000000\n",
      "Name: Eccentricity, dtype: float64\n",
      "Mediana: 0.00029648956561071965\n",
      "Moda: 0.0009386959347245288\n"
     ]
    }
   ],
   "source": [
    "# Ver los valores no nulos y los que faltan\n",
    "print(len(df_ucs)) # Total\n",
    "print(df_ucs['Eccentricity'].notna().sum()) # Con valor\n",
    "print(df_ucs['Eccentricity'].isna().sum()) # Sin valor\n",
    "\n",
    "# Estadísticas básicas\n",
    "print(df_ucs['Eccentricity'].describe())\n",
    "\n",
    "# Mediana\n",
    "print(\"Mediana:\", df_ucs['Eccentricity'].median())\n",
    "\n",
    "# Moda (el valor más frecuente)\n",
    "print(\"Moda:\", df_ucs['Eccentricity'].mode()[0])"
   ]
  },
  {
   "cell_type": "markdown",
   "id": "7522358e",
   "metadata": {},
   "source": [
    "- Significado: La excentricidad de la órbita, que mide cuán \"alargada\" o \"elíptica\" es la órbita de un satélite. Una excentricidad de 0 indica una órbita circular, mientras que valores cercanos a 1 indican órbitas más elípticas.\n",
    "\n",
    "- Análisis: Un análisis de la excentricidad mostrará cuán circulares o alargadas son las órbitas de los satélites."
   ]
  },
  {
   "cell_type": "markdown",
   "id": "3b62c0cb",
   "metadata": {},
   "source": [
    "### Arreglar y analizar columna 'Inclination (degrees)'"
   ]
  },
  {
   "cell_type": "code",
   "execution_count": 83,
   "id": "cc42bf4d",
   "metadata": {},
   "outputs": [
    {
     "data": {
      "text/plain": [
       "454"
      ]
     },
     "execution_count": 83,
     "metadata": {},
     "output_type": "execute_result"
    }
   ],
   "source": [
    "df_ucs['Inclination (degrees)'].nunique()"
   ]
  },
  {
   "cell_type": "code",
   "execution_count": 84,
   "id": "215b3556",
   "metadata": {},
   "outputs": [
    {
     "name": "stdout",
     "output_type": "stream",
     "text": [
      "7558\n",
      "7555\n",
      "3\n",
      "count    7555.000000\n",
      "mean       62.529533\n",
      "std        27.235412\n",
      "min         0.000000\n",
      "25%        53.000000\n",
      "50%        53.200000\n",
      "75%        87.400000\n",
      "max       143.400000\n",
      "Name: Inclination (degrees), dtype: float64\n",
      "Mediana: 53.2\n",
      "Moda: 53.0\n"
     ]
    }
   ],
   "source": [
    "# Ver los valores no nulos y los que faltan\n",
    "print(len(df_ucs)) # Total\n",
    "print(df_ucs['Inclination (degrees)'].notna().sum()) # Con valor\n",
    "print(df_ucs['Inclination (degrees)'].isna().sum()) # Sin valor\n",
    "\n",
    "# Estadísticas básicas\n",
    "print(df_ucs['Inclination (degrees)'].describe())\n",
    "\n",
    "# Mediana\n",
    "print(\"Mediana:\", df_ucs['Inclination (degrees)'].median())\n",
    "\n",
    "# Moda (el valor más frecuente)\n",
    "print(\"Moda:\", df_ucs['Inclination (degrees)'].mode()[0])"
   ]
  },
  {
   "cell_type": "markdown",
   "id": "3ffdb4d1",
   "metadata": {},
   "source": [
    "- Significado: La inclinación orbital, que mide el ángulo entre el plano de la órbita del satélite y el plano ecuatorial de la Tierra. Esto indica si la órbita del satélite es polar, ecuatorial o tiene una inclinación intermedia.\n",
    "\n",
    "- Análisis: Puedes ver qué tan inclinadas son las órbitas en promedio, lo cual es importante para determinar el tipo de misión (como satélites polares vs. GEO)."
   ]
  },
  {
   "cell_type": "markdown",
   "id": "401a91fd",
   "metadata": {},
   "source": [
    "### Arreglar y analizar columna 'Period (minutes)'"
   ]
  },
  {
   "cell_type": "code",
   "execution_count": 85,
   "id": "790a80a7",
   "metadata": {},
   "outputs": [
    {
     "data": {
      "text/plain": [
       "578"
      ]
     },
     "execution_count": 85,
     "metadata": {},
     "output_type": "execute_result"
    }
   ],
   "source": [
    "df_ucs['Period (minutes)'].nunique()"
   ]
  },
  {
   "cell_type": "code",
   "execution_count": 86,
   "id": "329b91ed",
   "metadata": {},
   "outputs": [
    {
     "name": "stdout",
     "output_type": "stream",
     "text": [
      "7558\n",
      "7503\n",
      "55\n",
      "count     7503.000000\n",
      "mean       224.033451\n",
      "std        441.522353\n",
      "min          9.000000\n",
      "25%         95.000000\n",
      "50%         95.600000\n",
      "75%         96.500000\n",
      "max      11520.000000\n",
      "Name: Period (minutes), dtype: float64\n",
      "Mediana: 95.6\n",
      "Moda: 95.6\n"
     ]
    }
   ],
   "source": [
    "# Ver los valores no nulos y los que faltan\n",
    "print(len(df_ucs)) # Total\n",
    "print(df_ucs['Period (minutes)'].notna().sum()) # Con valor\n",
    "print(df_ucs['Period (minutes)'].isna().sum()) # Sin valor\n",
    "\n",
    "# Estadísticas básicas\n",
    "print(df_ucs['Period (minutes)'].describe())\n",
    "\n",
    "# Mediana\n",
    "print(\"Mediana:\", df_ucs['Period (minutes)'].median())\n",
    "\n",
    "# Moda (el valor más frecuente)\n",
    "print(\"Moda:\", df_ucs['Period (minutes)'].mode()[0])"
   ]
  },
  {
   "cell_type": "markdown",
   "id": "15b00700",
   "metadata": {},
   "source": [
    "- Significado: El período orbital, que es el tiempo que tarda un satélite en completar una órbita alrededor de la Tierra. Este valor está directamente relacionado con la altitud y el tipo de órbita.\n",
    "\n",
    "- Análisis: Calcular la media, mediana, etc., de los períodos orbitales te ayudará a ver qué tan rápido se mueven los satélites en su órbita."
   ]
  },
  {
   "cell_type": "markdown",
   "id": "247c643e",
   "metadata": {},
   "source": [
    "### Arreglar y analizar columna 'Launch Mass (kg.)'"
   ]
  },
  {
   "cell_type": "code",
   "execution_count": 87,
   "id": "621e0c54",
   "metadata": {},
   "outputs": [
    {
     "data": {
      "text/plain": [
       "595"
      ]
     },
     "execution_count": 87,
     "metadata": {},
     "output_type": "execute_result"
    }
   ],
   "source": [
    "df_ucs['Launch Mass (kg.)'].nunique()"
   ]
  },
  {
   "cell_type": "code",
   "execution_count": 88,
   "id": "2a8c4d0f",
   "metadata": {},
   "outputs": [
    {
     "name": "stdout",
     "output_type": "stream",
     "text": [
      "7558\n",
      "7314\n",
      "244\n",
      "count     7314.000000\n",
      "mean       626.405585\n",
      "std       1386.284019\n",
      "min          0.500000\n",
      "25%        148.000000\n",
      "50%        260.000000\n",
      "75%        280.000000\n",
      "max      22500.000000\n",
      "Name: Launch Mass (kg.), dtype: float64\n",
      "Mediana: 260.0\n",
      "Moda: 260.0\n"
     ]
    }
   ],
   "source": [
    "# Ver los valores no nulos y los que faltan\n",
    "print(len(df_ucs)) # Total\n",
    "print(df_ucs['Launch Mass (kg.)'].notna().sum()) # Con valor\n",
    "print(df_ucs['Launch Mass (kg.)'].isna().sum()) # Sin valor\n",
    "\n",
    "# Estadísticas básicas\n",
    "print(df_ucs['Launch Mass (kg.)'].describe())\n",
    "\n",
    "# Mediana\n",
    "print(\"Mediana:\", df_ucs['Launch Mass (kg.)'].median())\n",
    "\n",
    "# Moda (el valor más frecuente)\n",
    "print(\"Moda:\", df_ucs['Launch Mass (kg.)'].mode()[0])"
   ]
  },
  {
   "cell_type": "markdown",
   "id": "fa77ff87",
   "metadata": {},
   "source": [
    "- Significado: La masa del satélite en el momento de su lanzamiento. Esto incluye el satélite en sí y cualquier carga útil (como instrumentos, sensores, etc.).\n",
    "\n",
    "- Análisis: La masa de lanzamiento es importante para determinar qué tan pesados son los satélites y puede influir en el tipo de cohete utilizado para el lanzamiento."
   ]
  },
  {
   "cell_type": "markdown",
   "id": "dc578fe8",
   "metadata": {},
   "source": [
    "### Arreglar y analizar columna 'Dry Mass (kg.)'"
   ]
  },
  {
   "cell_type": "code",
   "execution_count": 89,
   "id": "10665469",
   "metadata": {},
   "outputs": [
    {
     "data": {
      "text/plain": [
       "204"
      ]
     },
     "execution_count": 89,
     "metadata": {},
     "output_type": "execute_result"
    }
   ],
   "source": [
    "df_ucs['Dry Mass (kg.)'].nunique()"
   ]
  },
  {
   "cell_type": "code",
   "execution_count": 90,
   "id": "e84ec69d",
   "metadata": {},
   "outputs": [
    {
     "name": "stdout",
     "output_type": "stream",
     "text": [
      "7558\n",
      "767\n",
      "6791\n",
      "count     767\n",
      "unique    204\n",
      "top       140\n",
      "freq       87\n",
      "Name: Dry Mass (kg.), dtype: int64\n"
     ]
    }
   ],
   "source": [
    "# Ver los valores no nulos y los que faltan\n",
    "print(len(df_ucs)) # Total\n",
    "print(df_ucs['Dry Mass (kg.)'].notna().sum()) # Con valor\n",
    "print(df_ucs['Dry Mass (kg.)'].isna().sum()) # Sin valor\n",
    "\n",
    "# Estadísticas básicas\n",
    "print(df_ucs['Dry Mass (kg.)'].describe())"
   ]
  },
  {
   "cell_type": "markdown",
   "id": "7adf39a8",
   "metadata": {},
   "source": [
    "No se puede calcular ni la mediana ni la moda, encima hay muy pocos valores (la mayoría de celdas están vacías)\n",
    "- Significado: La masa seca del satélite, es decir, la masa del satélite sin combustible ni otros consumibles. Este valor muestra el peso del satélite una vez que ha sido lanzado y tiene todos sus sistemas funcionando.\n",
    "- Análisis: Es un dato clave para ver cuánto pesa el satélite cuando está en funcionamiento, y puede tener implicaciones para el análisis de su eficiencia y consumo energético."
   ]
  },
  {
   "cell_type": "markdown",
   "id": "68c4c2fd",
   "metadata": {},
   "source": [
    "### Arreglar y analizar columna 'Power (watts)'"
   ]
  },
  {
   "cell_type": "code",
   "execution_count": 91,
   "id": "cfd02f72",
   "metadata": {},
   "outputs": [
    {
     "data": {
      "text/plain": [
       "152"
      ]
     },
     "execution_count": 91,
     "metadata": {},
     "output_type": "execute_result"
    }
   ],
   "source": [
    "df_ucs['Power (watts)'].nunique()"
   ]
  },
  {
   "cell_type": "code",
   "execution_count": 92,
   "id": "22c3347e",
   "metadata": {},
   "outputs": [
    {
     "name": "stdout",
     "output_type": "stream",
     "text": [
      "7558\n",
      "579\n",
      "6979\n",
      "count     579\n",
      "unique    152\n",
      "top        50\n",
      "freq       79\n",
      "Name: Power (watts), dtype: int64\n"
     ]
    }
   ],
   "source": [
    "# Ver los valores no nulos y los que faltan\n",
    "print(len(df_ucs)) # Total\n",
    "print(df_ucs['Power (watts)'].notna().sum()) # Con valor\n",
    "print(df_ucs['Power (watts)'].isna().sum()) # Sin valor\n",
    "\n",
    "# Estadísticas básicas\n",
    "print(df_ucs['Power (watts)'].describe())"
   ]
  },
  {
   "cell_type": "markdown",
   "id": "f8a7ac61",
   "metadata": {},
   "source": [
    "No se puede calcular ni la mediana ni la moda, encima hay muy pocos valores (la mayoría de celdas están vacías). Esto indicaría:\n",
    "- Significado: La potencia total que utiliza el satélite, medida en vatios (W). Es un dato relevante para saber la capacidad energética del satélite para alimentar sus sistemas.\n",
    "- Análisis: El análisis de la potencia te dirá cuánto poder consume un satélite, lo que es clave para comprender sus necesidades energéticas y duración de la misión."
   ]
  },
  {
   "cell_type": "markdown",
   "id": "b53c99a4",
   "metadata": {},
   "source": [
    "# API de n2yo.com"
   ]
  },
  {
   "cell_type": "code",
   "execution_count": 93,
   "id": "d1db6f74",
   "metadata": {},
   "outputs": [],
   "source": [
    "# Para guardar la API Key\n",
    "from dotenv import load_dotenv, find_dotenv\n",
    "\n",
    "load_dotenv('n2yo_key.env')\n",
    "\n",
    "n2yo_key = os.getenv(\"n2yo_key\")"
   ]
  },
  {
   "cell_type": "code",
   "execution_count": 94,
   "id": "5f37646a",
   "metadata": {},
   "outputs": [
    {
     "data": {
      "text/html": [
       "<div>\n",
       "<style scoped>\n",
       "    .dataframe tbody tr th:only-of-type {\n",
       "        vertical-align: middle;\n",
       "    }\n",
       "\n",
       "    .dataframe tbody tr th {\n",
       "        vertical-align: top;\n",
       "    }\n",
       "\n",
       "    .dataframe thead th {\n",
       "        text-align: right;\n",
       "    }\n",
       "</style>\n",
       "<table border=\"1\" class=\"dataframe\">\n",
       "  <thead>\n",
       "    <tr style=\"text-align: right;\">\n",
       "      <th></th>\n",
       "      <th>Satellite ID</th>\n",
       "      <th>TLE Line 1</th>\n",
       "      <th>TLE Line 2</th>\n",
       "      <th>Satellite Name</th>\n",
       "    </tr>\n",
       "  </thead>\n",
       "  <tbody>\n",
       "    <tr>\n",
       "      <th>0</th>\n",
       "      <td>25544</td>\n",
       "      <td>1 25544U 98067A   25132.17308767  .00009494  0...</td>\n",
       "      <td>2 25544  51.6373 125.4662 0002565 109.5780 353...</td>\n",
       "      <td>SPACE STATION</td>\n",
       "    </tr>\n",
       "  </tbody>\n",
       "</table>\n",
       "</div>"
      ],
      "text/plain": [
       "   Satellite ID                                         TLE Line 1  \\\n",
       "0         25544  1 25544U 98067A   25132.17308767  .00009494  0...   \n",
       "\n",
       "                                          TLE Line 2 Satellite Name  \n",
       "0  2 25544  51.6373 125.4662 0002565 109.5780 353...  SPACE STATION  "
      ]
     },
     "metadata": {},
     "output_type": "display_data"
    }
   ],
   "source": [
    "# Para ver Two-Line Element Set (TLE), un formato estándar que proporciona los elementos orbitales de un satélite para predecir su posición en el espacio\n",
    "\n",
    "satellite_id = 25544\n",
    "api_key = n2yo_key \n",
    "\n",
    "url = f\"https://api.n2yo.com/rest/v1/satellite/tle/{satellite_id}?apiKey={api_key}\"\n",
    "response = requests.get(url)\n",
    "\n",
    "if response.status_code == 200:\n",
    "    data = response.json()\n",
    "    tle_lines = data.get('tle', '').split(\"\\r\\n\")\n",
    "    satellite_name = data['info'].get(\"satname\", \"Unknown\")\n",
    "    \n",
    "    if len(tle_lines) == 2:\n",
    "        df_tle = pd.DataFrame([[satellite_id] + tle_lines + [satellite_name]], columns=[\"Satellite ID\", \"TLE Line 1\", \"TLE Line 2\",  \"Satellite Name\"]) \n",
    "        display(df_tle)"
   ]
  },
  {
   "cell_type": "code",
   "execution_count": 96,
   "id": "314c2a35",
   "metadata": {},
   "outputs": [
    {
     "name": "stdout",
     "output_type": "stream",
     "text": [
      "Requirement already satisfied: skyfield in c:\\users\\usuario\\anaconda3\\lib\\site-packages (1.53)\n",
      "Requirement already satisfied: certifi>=2017.4.17 in c:\\users\\usuario\\anaconda3\\lib\\site-packages (from skyfield) (2025.1.31)\n",
      "Requirement already satisfied: jplephem>=2.13 in c:\\users\\usuario\\anaconda3\\lib\\site-packages (from skyfield) (2.22)\n",
      "Requirement already satisfied: numpy in c:\\users\\usuario\\anaconda3\\lib\\site-packages (from skyfield) (1.26.4)\n",
      "Requirement already satisfied: sgp4>=2.13 in c:\\users\\usuario\\anaconda3\\lib\\site-packages (from skyfield) (2.24)\n",
      "Requirement already satisfied: skyfield in c:\\users\\usuario\\anaconda3\\lib\\site-packages (1.53)\n",
      "Requirement already satisfied: reverse_geocoder in c:\\users\\usuario\\anaconda3\\lib\\site-packages (1.5.1)\n",
      "Requirement already satisfied: pandas in c:\\users\\usuario\\anaconda3\\lib\\site-packages (2.2.2)\n",
      "Requirement already satisfied: certifi>=2017.4.17 in c:\\users\\usuario\\anaconda3\\lib\\site-packages (from skyfield) (2025.1.31)\n",
      "Requirement already satisfied: jplephem>=2.13 in c:\\users\\usuario\\anaconda3\\lib\\site-packages (from skyfield) (2.22)\n",
      "Requirement already satisfied: numpy in c:\\users\\usuario\\anaconda3\\lib\\site-packages (from skyfield) (1.26.4)\n",
      "Requirement already satisfied: sgp4>=2.13 in c:\\users\\usuario\\anaconda3\\lib\\site-packages (from skyfield) (2.24)\n",
      "Requirement already satisfied: scipy>=0.17.1 in c:\\users\\usuario\\anaconda3\\lib\\site-packages (from reverse_geocoder) (1.13.1)\n",
      "Requirement already satisfied: python-dateutil>=2.8.2 in c:\\users\\usuario\\anaconda3\\lib\\site-packages (from pandas) (2.9.0.post0)\n",
      "Requirement already satisfied: pytz>=2020.1 in c:\\users\\usuario\\anaconda3\\lib\\site-packages (from pandas) (2024.1)\n",
      "Requirement already satisfied: tzdata>=2022.7 in c:\\users\\usuario\\anaconda3\\lib\\site-packages (from pandas) (2023.3)\n",
      "Requirement already satisfied: six>=1.5 in c:\\users\\usuario\\anaconda3\\lib\\site-packages (from python-dateutil>=2.8.2->pandas) (1.16.0)\n",
      "Requirement already satisfied: pytz in c:\\users\\usuario\\anaconda3\\lib\\site-packages (2024.1)\n"
     ]
    }
   ],
   "source": [
    "# A través del TLE anterior, y con Skyfield, podemos calcular la posición del satélite\n",
    "!pip install skyfield\n",
    "!pip install skyfield reverse_geocoder pandas\n",
    "!pip install pytz \n",
    "# PYTZ para convertir la hora UCT a la hora de España"
   ]
  },
  {
   "cell_type": "code",
   "execution_count": 97,
   "id": "2064cfce",
   "metadata": {},
   "outputs": [
    {
     "name": "stdout",
     "output_type": "stream",
     "text": [
      "Loading formatted geocoded file...\n",
      "Hora UTC: 2025-05-12 07:24:18\n",
      "Posición actual del satélite:\n",
      "Latitud: 31.27°\n",
      "Longitud: -65.16°\n",
      "Altitud: 418.44 km\n",
      "Está sobre: Hamilton, BM\n"
     ]
    }
   ],
   "source": [
    "from skyfield.api import EarthSatellite, load\n",
    "from datetime import datetime, timezone\n",
    "import pandas as pd\n",
    "import reverse_geocoder as rg\n",
    "import pytz\n",
    "\n",
    "# Con las columnas del df_tle: \"Satellite ID\", \"TLE Line 1\", \"TLE Line 2\"\n",
    "tle_line1 = df_tle.loc[0, \"TLE Line 1\"]\n",
    "tle_line2 = df_tle.loc[0, \"TLE Line 2\"]\n",
    "satellite_id = df_tle.loc[0, \"Satellite ID\"]\n",
    "# Crear el objeto del satélite\n",
    "ts = load.timescale() \n",
    "satellite = EarthSatellite(tle_line1, tle_line2, f'Satellite {satellite_id}', ts)\n",
    "# Tiempo actual con zona horaria UTC\n",
    "now_utc = datetime.now(timezone.utc)\n",
    "ts = load.timescale()\n",
    "t = ts.utc(now_utc)\n",
    "# Obtener posición\n",
    "geocentric = satellite.at(t)\n",
    "subpoint = geocentric.subpoint()\n",
    "# Datos de latitud, longitud y altitud\n",
    "lat, lon, elev = subpoint.latitude.degrees, subpoint.longitude.degrees, subpoint.elevation.km\n",
    "# Buscar ciudad y país usando reverse geocoding\n",
    "location = rg.search((lat, lon))[0]\n",
    "city, country = location['name'], location['cc']\n",
    "# Imprimir resultados\n",
    "print(f\"Hora UTC: {now_utc.strftime('%Y-%m-%d %H:%M:%S')}\")\n",
    "print(f\"Posición actual del satélite:\\nLatitud: {lat:.2f}°\\nLongitud: {lon:.2f}°\\nAltitud: {elev:.2f} km\")\n",
    "print(f\"Está sobre: {city}, {country}\")"
   ]
  },
  {
   "cell_type": "markdown",
   "id": "09803c8c",
   "metadata": {},
   "source": [
    "# GRÁFICAS"
   ]
  },
  {
   "cell_type": "code",
   "execution_count": 126,
   "id": "04a98412",
   "metadata": {},
   "outputs": [
    {
     "data": {
      "text/plain": [
       "Index(['Date of Launch', 'Geographic Coordinate', 'COSPAR Number',\n",
       "       'NORAD Number', 'Current Official Name of Satellite', 'Launch Site',\n",
       "       'Country/Org of UN Registry', 'Country of Operator/Owner',\n",
       "       'Operator/Owner', 'Launch Vehicle', 'Expected Lifetime (yrs.)',\n",
       "       'Contractor', 'Country of Contractor', 'Users', 'Purpose',\n",
       "       'Detailed Purpose', 'Class of Orbit', 'Type of Orbit',\n",
       "       'Longitude of GEO (degrees)', 'Perigee (km)', 'Apogee (km)',\n",
       "       'Eccentricity', 'Inclination (degrees)', 'Period (minutes)',\n",
       "       'Launch Mass (kg.)', 'Dry Mass (kg.)', 'Power (watts)', 'Comments',\n",
       "       'Unnamed: 27', 'Source Used for Orbital Data', 'lat', 'lon', 'date',\n",
       "       'weathercode', 'temperature_2m_mean', 'precipitation_sum',\n",
       "       'precipitation_hours', 'windspeed_10m_max', 'windgusts_10m_max',\n",
       "       'cloudcover_mean', 'relative_humidity_2m_mean', 'weather_summary',\n",
       "       'Launch Year', 'year'],\n",
       "      dtype='object')"
      ]
     },
     "execution_count": 126,
     "metadata": {},
     "output_type": "execute_result"
    }
   ],
   "source": [
    "df_ucs.columns"
   ]
  },
  {
   "cell_type": "markdown",
   "id": "be0062d5",
   "metadata": {},
   "source": [
    "1. Satélites por año"
   ]
  },
  {
   "cell_type": "code",
   "execution_count": 129,
   "id": "8b54a9c2",
   "metadata": {},
   "outputs": [
    {
     "data": {
      "image/png": "[encoded data removed]",
      "text/plain": [
       "<Figure size 1000x600 with 1 Axes>"
      ]
     },
     "metadata": {
      "needs_background": "dark"
     },
     "output_type": "display_data"
    }
   ],
   "source": [
    "# Extraer el año de 'Date of Launch'\n",
    "df_ucs['Launch Year'] = df_ucs['Date of Launch'].dt.year\n",
    "\n",
    "# Filtrar los datos para excluir 2023\n",
    "df_filtered = df_ucs[df_ucs['Launch Year'] != 2023]\n",
    "\n",
    "# Contar lanzamientos por año (sin considerar 2023)\n",
    "launches_per_year = df_filtered.groupby('Launch Year').size()\n",
    "\n",
    "# Crear el gráfico de línea con marcadores\n",
    "plt.figure(figsize=(10, 6), facecolor='none')\n",
    "plt.plot(launches_per_year.index, launches_per_year.values, marker='o', color='dodgerblue', markersize=8)\n",
    "\n",
    "# Añadir título y etiquetas\n",
    "plt.title('Annual Evolution of Satellite Launches', fontsize=14, color='white')\n",
    "plt.xlabel('Year', color='white')\n",
    "plt.ylabel('Number of Launches', color='white')\n",
    "\n",
    "# Estética: fondo transparente y ticks en blanco\n",
    "plt.gca().set_facecolor('none')\n",
    "plt.gca().tick_params(axis='x', colors='white')  # Ticks del eje X\n",
    "plt.gca().tick_params(axis='y', colors='white')  # Ticks del eje Y\n",
    "\n",
    "# Eliminar la cuadrícula\n",
    "plt.grid(False)\n",
    "\n",
    "# Mostrar el gráfico\n",
    "plt.tight_layout()\n",
    "plt.show()\n"
   ]
  },
  {
   "cell_type": "markdown",
   "id": "e2905a0b",
   "metadata": {},
   "source": [
    "2. TOP 12 Operators/Owners"
   ]
  },
  {
   "cell_type": "code",
   "execution_count": 130,
   "id": "4e8cb239",
   "metadata": {},
   "outputs": [
    {
     "data": {
      "image/png": "[encoded data removed]",
      "text/plain": [
       "<Figure size 1000x800 with 1 Axes>"
      ]
     },
     "metadata": {
      "needs_background": "dark"
     },
     "output_type": "display_data"
    }
   ],
   "source": [
    "import matplotlib.pyplot as plt\n",
    "import numpy as np\n",
    "\n",
    "# Tomar top 12\n",
    "top_12_operators = df_ucs['Operator/Owner'].value_counts().head(12)\n",
    "\n",
    "# Crear gráfico\n",
    "fig, ax = plt.subplots(figsize=(10, 8), facecolor='none')\n",
    "fig.patch.set_alpha(0)  # Fondo transparente\n",
    "\n",
    "# Colores con azul vibrante y contraste\n",
    "colors = ['deepskyblue', 'dodgerblue', 'cornflowerblue', 'steelblue',\n",
    "          'skyblue', 'turquoise', 'lightseagreen', 'mediumslateblue',\n",
    "          'royalblue', 'slateblue', 'lightblue', 'aquamarine']\n",
    "\n",
    "# Graficar\n",
    "top_12_operators.plot(kind='barh', color=colors, ax=ax)\n",
    "\n",
    "# Estética\n",
    "ax.set_title('Top 12 Satellite Operators/Owners', color='white', fontsize=14)\n",
    "ax.set_xlabel('Number of Satellites', color='white')\n",
    "ax.set_ylabel('Operator/Owner', color='white')\n",
    "ax.invert_yaxis()  # Más frecuente arriba\n",
    "ax.set_facecolor('none')  # Fondo de los ejes transparente\n",
    "ax.tick_params(colors='white')  # Ticks blancos\n",
    "\n",
    "plt.tight_layout()\n",
    "plt.show()\n"
   ]
  },
  {
   "cell_type": "markdown",
   "id": "608b580e",
   "metadata": {},
   "source": [
    "3. TOP 10 Launch Vehicle"
   ]
  },
  {
   "cell_type": "code",
   "execution_count": 131,
   "id": "db7bd54c",
   "metadata": {},
   "outputs": [
    {
     "data": {
      "image/png": "[encoded data removed]",
      "text/plain": [
       "<Figure size 1000x600 with 1 Axes>"
      ]
     },
     "metadata": {
      "needs_background": "dark"
     },
     "output_type": "display_data"
    }
   ],
   "source": [
    "# Top 10 launch vehicles\n",
    "top_10_launch_vehicles = launch_vehicle_counts.head(10)\n",
    "\n",
    "# Colores reutilizados del gráfico anterior (ajustados a 10)\n",
    "colors = ['deepskyblue', 'dodgerblue', 'cornflowerblue', 'steelblue',\n",
    "          'skyblue', 'turquoise', 'lightseagreen', 'mediumslateblue',\n",
    "          'royalblue', 'slateblue']\n",
    "\n",
    "# Crear figura con fondo transparente\n",
    "fig, ax = plt.subplots(figsize=(10, 6), facecolor='none')\n",
    "fig.patch.set_alpha(0)\n",
    "\n",
    "# Graficar\n",
    "ax.bar(top_10_launch_vehicles.index, top_10_launch_vehicles.values, color=colors)\n",
    "\n",
    "# Estética\n",
    "ax.set_title('Top 10 Launch Vehicles by Frequency', color='white', fontsize=14)\n",
    "ax.set_xlabel('Launch Vehicle', color='white')\n",
    "ax.set_ylabel('Frequency', color='white')\n",
    "ax.tick_params(colors='white')\n",
    "ax.set_facecolor('none')\n",
    "plt.xticks(rotation=45, ha='right')\n",
    "\n",
    "plt.tight_layout()\n",
    "plt.show()\n"
   ]
  },
  {
   "cell_type": "markdown",
   "id": "e8667b78",
   "metadata": {},
   "source": [
    "4. TOP 8 Countries by Number of Satellite"
   ]
  },
  {
   "cell_type": "code",
   "execution_count": 132,
   "id": "8fd6669e",
   "metadata": {},
   "outputs": [
    {
     "data": {
      "image/png": "[encoded data removed]",
      "text/plain": [
       "<Figure size 800x500 with 1 Axes>"
      ]
     },
     "metadata": {
      "needs_background": "dark"
     },
     "output_type": "display_data"
    }
   ],
   "source": [
    "# Filtrar 'Unknown' y tomar top 8\n",
    "top_countries = df_ucs['Country/Org of UN Registry'].value_counts().loc[lambda x: x.index != 'Unknown'].head(8)\n",
    "\n",
    "# Colores estilo azules\n",
    "colors = ['deepskyblue', 'dodgerblue', 'cornflowerblue', 'steelblue',\n",
    "          'skyblue', 'turquoise', 'mediumslateblue', 'lightblue']\n",
    "\n",
    "# Crear gráfico\n",
    "fig, ax = plt.subplots(figsize=(8, 5), dpi=100, facecolor='none')\n",
    "fig.patch.set_alpha(0)\n",
    "bars = ax.bar(top_countries.index, top_countries.values, color=colors)\n",
    "\n",
    "# Estética blanca y fondo transparente\n",
    "ax.set_facecolor('none')\n",
    "ax.spines['bottom'].set_color('white')\n",
    "ax.spines['left'].set_color('white')\n",
    "ax.tick_params(colors='white')\n",
    "ax.yaxis.label.set_color('white')\n",
    "ax.xaxis.label.set_color('white')\n",
    "ax.title.set_color('white')\n",
    "\n",
    "# Títulos\n",
    "ax.set_title('Top 8 Countries by Number of Satellites', pad=15)\n",
    "ax.set_xlabel('Country')\n",
    "ax.set_ylabel('Number of Satellites')\n",
    "plt.xticks(rotation=30, ha='right')\n",
    "\n",
    "# Anotar valores encima\n",
    "for bar in bars:\n",
    "    h = bar.get_height()\n",
    "    ax.text(bar.get_x() + bar.get_width()/2, h + 50, f'{int(h)}',\n",
    "            ha='center', va='bottom', color='white', fontsize=9)\n",
    "\n",
    "plt.tight_layout()"
   ]
  },
  {
   "cell_type": "markdown",
   "id": "31772594",
   "metadata": {},
   "source": [
    "5. Satellite Mass vs Average Launch Temperature"
   ]
  },
  {
   "cell_type": "code",
   "execution_count": 133,
   "id": "507438d4",
   "metadata": {},
   "outputs": [
    {
     "data": {
      "image/png": "[encoded data removed]",
      "text/plain": [
       "<Figure size 800x500 with 1 Axes>"
      ]
     },
     "metadata": {
      "needs_background": "dark"
     },
     "output_type": "display_data"
    }
   ],
   "source": [
    "# Creamos el scatter plot\n",
    "fig, ax = plt.subplots(figsize=(8, 5), facecolor='none')\n",
    "ax.scatter(df_ucs['temperature_2m_mean'], df_ucs['Launch Mass (kg.)'], \n",
    "           alpha=0.5, s=30, c='lightyellow', edgecolors='white')\n",
    "\n",
    "# El estilo que queremos\n",
    "ax.set_facecolor('none')\n",
    "fig.patch.set_alpha(0)\n",
    "for spine in ax.spines.values():\n",
    "    spine.set_color('white')\n",
    "ax.tick_params(colors='white')\n",
    "ax.set_title('Satellite Mass vs. Average Launch Temperature', color='white', pad=15)\n",
    "ax.set_xlabel('Average Temperature (°C)', color='white')\n",
    "ax.set_ylabel('Launch Mass (kg)', color='white')\n",
    "\n",
    "plt.tight_layout()\n",
    "plt.show()"
   ]
  },
  {
   "cell_type": "markdown",
   "id": "3e66298e",
   "metadata": {},
   "source": [
    "6. Average, top5 users, puropse y class of orbit"
   ]
  },
  {
   "cell_type": "code",
   "execution_count": 134,
   "id": "8131bae9",
   "metadata": {},
   "outputs": [
    {
     "data": {
      "image/png": "[encoded data removed]",
      "text/plain": [
       "<Figure size 1200x1000 with 4 Axes>"
      ]
     },
     "metadata": {
      "needs_background": "dark"
     },
     "output_type": "display_data"
    }
   ],
   "source": [
    "# Estilo general\n",
    "sns.set(style=\"dark\", palette=\"muted\")\n",
    "\n",
    "fig, axes = plt.subplots(2, 2, figsize=(12, 10), facecolor='none')\n",
    "fig.patch.set_alpha(0)\n",
    "\n",
    "# A: Average Lifetime\n",
    "lifetime_data = df_ucs['Expected Lifetime (yrs.)'].dropna()\n",
    "mean_life = lifetime_data.mean()\n",
    "std_life = lifetime_data.std()\n",
    "min_life = lifetime_data.min()\n",
    "max_life = lifetime_data.max()\n",
    "median_life = lifetime_data.median()\n",
    "\n",
    "statistics = ['Mean', 'STD', 'Min', 'Max', 'Median']\n",
    "values = [mean_life, std_life, min_life, max_life, median_life]\n",
    "\n",
    "colors_a = ['deepskyblue', 'dodgerblue', 'steelblue', 'skyblue', 'lightblue']\n",
    "axes[0, 0].bar(statistics, values, color=colors_a, width=0.4)\n",
    "axes[0, 0].set_title('Average Lifetime (yrs.)', color='white')\n",
    "for i, value in enumerate(values):\n",
    "    axes[0, 0].text(i, value + 0.2, f'{value:.2f}', ha='center', va='bottom', color='white', fontsize=12)\n",
    "axes[0, 0].set_ylim(0, max(values) * 1.2)\n",
    "axes[0, 0].set_facecolor('none')\n",
    "axes[0, 0].tick_params(colors='white')\n",
    "\n",
    "# B: Users top 4\n",
    "users = df_ucs['Users'].value_counts().head(4)\n",
    "colors_b = ['cornflowerblue', 'mediumslateblue', 'aquamarine', 'turquoise']\n",
    "axes[0, 1].bar(users.index, users.values, color=colors_b)\n",
    "axes[0, 1].set_title('Top 4 Users', color='white')\n",
    "axes[0, 1].tick_params(colors='white')\n",
    "axes[0, 1].set_facecolor('none')\n",
    "\n",
    "# C: Purpose distribution\n",
    "purp = df_ucs['Purpose'].value_counts().head(5)\n",
    "colors_c = ['steelblue', 'royalblue', 'deepskyblue', 'lightseagreen', 'skyblue']\n",
    "axes[1, 0].barh(purp.index, purp.values, color=colors_c)\n",
    "axes[1, 0].set_title('Purpose Distribution', color='white')\n",
    "axes[1, 0].set_facecolor('none')\n",
    "axes[1, 0].tick_params(colors='white')\n",
    "\n",
    "# D: Class of Orbit\n",
    "coo = df_ucs['Class of Orbit'].value_counts()\n",
    "colors_d = ['mediumblue', 'slateblue', 'aqua', 'lightblue']\n",
    "axes[1, 1].bar(coo.index, coo.values, color=colors_d)\n",
    "axes[1, 1].set_title('Class of Orbit', color='white')\n",
    "axes[1, 1].tick_params(colors='white')\n",
    "axes[1, 1].set_facecolor('none')\n",
    "\n",
    "plt.tight_layout()\n",
    "plt.show()"
   ]
  },
  {
   "cell_type": "markdown",
   "id": "f98a8c24",
   "metadata": {},
   "source": [
    "7. Clima"
   ]
  },
  {
   "cell_type": "code",
   "execution_count": 135,
   "id": "071ec56a",
   "metadata": {},
   "outputs": [
    {
     "data": {
      "image/png": "[encoded data removed]",
      "text/plain": [
       "<Figure size 1000x500 with 1 Axes>"
      ]
     },
     "metadata": {
      "needs_background": "dark"
     },
     "output_type": "display_data"
    }
   ],
   "source": [
    "# Calcular la temperatura media por año\n",
    "df_ucs['year'] = df_ucs['Date of Launch'].dt.year\n",
    "temperature_per_year = df_ucs.groupby('year')['temperature_2m_mean'].mean()\n",
    "\n",
    "# Crear la figura para la temperatura\n",
    "plt.figure(figsize=(10, 5), facecolor='none')\n",
    "\n",
    "# Trazar la línea para la temperatura\n",
    "plt.plot(temperature_per_year.index, temperature_per_year.values, label='Mean Temperature (°C)', color='deepskyblue', marker='o')\n",
    "\n",
    "# Estética\n",
    "plt.title('Yearly Evolution of Mean Temperature', color='white')\n",
    "plt.xlabel('Year', color='white')\n",
    "plt.ylabel('Mean Temperature (°C)', color='white')\n",
    "plt.legend(loc='upper left', fontsize=10)\n",
    "plt.gca().tick_params(axis='x', colors='white')\n",
    "plt.gca().tick_params(axis='y', colors='white')\n",
    "plt.gca().set_facecolor('none')\n",
    "plt.tight_layout()\n",
    "plt.show()"
   ]
  },
  {
   "cell_type": "markdown",
   "id": "883f8d58",
   "metadata": {},
   "source": [
    "8. Otros"
   ]
  },
  {
   "cell_type": "code",
   "execution_count": 136,
   "id": "5c2d4bc5",
   "metadata": {},
   "outputs": [
    {
     "data": {
      "image/png": "[encoded data removed]",
      "text/plain": [
       "<Figure size 1000x800 with 1 Axes>"
      ]
     },
     "metadata": {
      "needs_background": "dark"
     },
     "output_type": "display_data"
    }
   ],
   "source": [
    "# Top 15 contractors\n",
    "top_15_contractors = df_ucs['Contractor'].value_counts().head(15)\n",
    "\n",
    "# Colores (ajustados a 15 con repetición suave si hay menos en la paleta)\n",
    "colors = ['deepskyblue', 'dodgerblue', 'cornflowerblue', 'steelblue',\n",
    "          'skyblue', 'turquoise', 'lightseagreen', 'mediumslateblue',\n",
    "          'royalblue', 'slateblue', 'lightblue', 'aquamarine',\n",
    "          'powderblue', 'cadetblue', 'lightsteelblue']\n",
    "\n",
    "# Crear figura con fondo transparente\n",
    "fig, ax = plt.subplots(figsize=(10, 8), facecolor='none')\n",
    "fig.patch.set_alpha(0)\n",
    "\n",
    "# Graficar\n",
    "top_15_contractors.plot(kind='barh', color=colors, ax=ax)\n",
    "\n",
    "# Estética\n",
    "ax.set_title('Top 15 Satellite Contractors', color='white', fontsize=14)\n",
    "ax.set_xlabel('Number of Satellites', color='white')\n",
    "ax.set_ylabel('Contractor', color='white')\n",
    "ax.tick_params(colors='white')\n",
    "ax.set_facecolor('none')\n",
    "ax.invert_yaxis()\n",
    "\n",
    "plt.tight_layout()\n",
    "plt.show()"
   ]
  },
  {
   "cell_type": "code",
   "execution_count": 138,
   "id": "55cdedeb",
   "metadata": {},
   "outputs": [
    {
     "data": {
      "image/png": "[encoded data removed]",
      "text/plain": [
       "<Figure size 600x500 with 2 Axes>"
      ]
     },
     "metadata": {
      "needs_background": "dark"
     },
     "output_type": "display_data"
    }
   ],
   "source": [
    "meteo_cols = [\n",
    "    'temperature_2m_mean',\n",
    "    'precipitation_sum',\n",
    "    'windspeed_10m_max',\n",
    "    'cloudcover_mean',\n",
    "    'relative_humidity_2m_mean'\n",
    "]\n",
    "corr = df_ucs[meteo_cols].corr()\n",
    "\n",
    "fig, ax = plt.subplots(figsize=(6, 5), facecolor='none')\n",
    "im = ax.imshow(corr, vmin=-1, vmax=1, cmap='coolwarm', aspect='auto')\n",
    "\n",
    "# Ejes y etiquetas\n",
    "ax.set_xticks(range(len(meteo_cols)))\n",
    "ax.set_xticklabels(meteo_cols, rotation=45, ha='right', color='white')\n",
    "ax.set_yticks(range(len(meteo_cols)))\n",
    "ax.set_yticklabels(meteo_cols, color='white')\n",
    "\n",
    "for spine in ax.spines.values():\n",
    "    spine.set_color('white')\n",
    "ax.tick_params(colors='white')\n",
    "ax.set_title('Correlación de Variables Meteorológicas', color='white', pad=10)\n",
    "\n",
    "# Colorbar con texto blanco\n",
    "cbar = fig.colorbar(im, ax=ax, fraction=0.046, pad=0.04)\n",
    "cbar.ax.yaxis.set_tick_params(color='white')\n",
    "cbar.outline.set_edgecolor('white')\n",
    "plt.setp(plt.getp(cbar.ax, 'yticklabels'), color='white')\n",
    "\n",
    "plt.tight_layout()\n",
    "plt.show()\n"
   ]
  },
  {
   "cell_type": "markdown",
   "id": "d5609410",
   "metadata": {},
   "source": [
    "# Descargamos el Dataset final"
   ]
  },
  {
   "cell_type": "code",
   "execution_count": null,
   "id": "cc9c1aa9",
   "metadata": {},
   "outputs": [],
   "source": [
    "df_ucs.to_csv(\"final_dataset.csv\", index=False)"
   ]
  },
  {
   "cell_type": "code",
   "execution_count": null,
   "id": "45592a6b",
   "metadata": {},
   "outputs": [
    {
     "data": {
      "text/plain": [
       "'\\nPara volver a cargarlo\\nimport pandas as pd\\ndf = pd.read_csv(\"final_dataset.csv\")\\n\\nSi no está en el mismo directorio:\\n'"
      ]
     },
     "execution_count": 140,
     "metadata": {},
     "output_type": "execute_result"
    }
   ],
   "source": [
    "'''\n",
    "Para volver a cargarlo si está en el mismo directorio\n",
    "import pandas as pd\n",
    "df = pd.read_csv(\"final_dataset.csv\")\n",
    "\n",
    "Si no está en el mismo directorio:\n",
    "df = pd.read_excel(r'C:\\Users\\Usuario\\Desktop\\Ironhack\\Bootcamp\\03_Week3\\satellite_data_analysis\\Datasets\\final_dataset.xlsx')\n",
    "'''"
   ]
  }
 ],
 "metadata": {
  "kernelspec": {
   "display_name": "base",
   "language": "python",
   "name": "python3"
  },
  "language_info": {
   "codemirror_mode": {
    "name": "ipython",
    "version": 3
   },
   "file_extension": ".py",
   "mimetype": "text/x-python",
   "name": "python",
   "nbconvert_exporter": "python",
   "pygments_lexer": "ipython3",
   "version": "3.12.7"
  }
 },
 "nbformat": 4,
 "nbformat_minor": 5
}
